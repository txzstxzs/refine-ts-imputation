{
 "cells": [
  {
   "cell_type": "code",
   "execution_count": 2,
   "id": "3daa4ff6",
   "metadata": {},
   "outputs": [],
   "source": [
    "import os\n",
    "import torch\n",
    "import argparse\n",
    "import numpy as np\n",
    "\n",
    "from engine.logger import Logger\n",
    "from engine.solver import Trainer\n",
    "from Data.build_dataloader import build_dataloader, build_dataloader_cond\n",
    "from Models.interpretable_diffusion.model_utils import unnormalize_to_zero_to_one\n",
    "from Utils.io_utils import load_yaml_config, seed_everything, merge_opts_to_config, instantiate_from_config\n",
    "from Utils.metric_utils import visualization\n",
    "\n",
    "import sys\n",
    "import time\n",
    "import torch.nn as nn\n",
    "import torch.nn.functional as F\n",
    "\n",
    "from pathlib import Path\n",
    "from tqdm import tqdm\n",
    "from ema_pytorch import EMA\n",
    "from torch.optim import Adam\n",
    "from torch.nn.utils import clip_grad_norm_\n",
    "from Utils.io_utils import instantiate_from_config, get_model_parameters_info\n",
    "\n",
    "\n",
    "from sklearn.manifold import TSNE\n",
    "from sklearn.decomposition import PCA\n",
    "import matplotlib.pyplot as plt\n",
    "plt.rc('font',family='Times New Roman') \n",
    "\n",
    "import umap                        \n",
    "import seaborn as sns \n",
    "\n",
    "from pypots.utils.metrics import calc_mse,calc_rmse,calc_mae\n",
    "import random"
   ]
  },
  {
   "cell_type": "code",
   "execution_count": 3,
   "id": "dc7cca43",
   "metadata": {},
   "outputs": [],
   "source": [
    "def visualization2(ori, gen):\n",
    "    \n",
    "    Number = ori.shape[0]\n",
    "    \n",
    "    max_sample = min([4000, Number])      \n",
    "    idx = np.random.permutation(Number)[ :max_sample]\n",
    "\n",
    "    ori1 = np.asarray(ori)[idx]\n",
    "    gen1 = np.asarray(gen)[idx]\n",
    "\n",
    "    ori1 = np.mean(ori1, 2) \n",
    "    gen1 = np.mean(gen1, 2) \n",
    "\n",
    "\n",
    "    concat_data = np.concatenate((ori1, gen1), axis=0)\n",
    "    \n",
    "    pca = PCA(2)     \n",
    "    pca_res = pca.fit_transform(concat_data)\n",
    "\n",
    "    tsne = TSNE(n_components=2, verbose=1, perplexity=40,random_state=20,n_iter=500) \n",
    "    tsne_res = tsne.fit_transform(concat_data) \n",
    "\n",
    "    umap_ = umap.UMAP(random_state=42)\n",
    "    umap_res = umap_.fit_transform(concat_data)\n",
    "    \n",
    "    \n",
    "    fig = plt.figure(figsize=(19,4))\n",
    "    plt.subplot(1,4,1)\n",
    "    \n",
    "    '0到2000索引的为原样本'\n",
    "    plt.scatter(pca_res[:2000,0],pca_res[:2000,1], s=15, c='#ff7f0e')\n",
    "    plt.scatter(pca_res[max_sample:max_sample+2000,0],pca_res[max_sample:max_sample+2000,1], s=15, c='#1f77b4')\n",
    "    plt.xlabel('(a)',fontsize=25)\n",
    "    \n",
    "    plt.subplot(1,4,2)\n",
    "    plt.scatter(tsne_res[:2000,0],tsne_res[:2000,1],  s=15,  c='#ff7f0e')\n",
    "    plt.scatter(tsne_res[max_sample:max_sample+2000,0],tsne_res[max_sample:max_sample+2000,1], s=15, c='#1f77b4')\n",
    "    plt.xlabel('(b)',fontsize=25)\n",
    "\n",
    "    plt.subplot(1,4,3)\n",
    "    plt.scatter(umap_res[:2000, 0], umap_res[:2000, 1],  cmap='Spectral', s=15,  c='#ff7f0e')\n",
    "    plt.scatter(umap_res[max_sample:max_sample+2000, 0], umap_res[max_sample:max_sample+2000, 1],  cmap='Spectral', s=15, c='#1f77b4')\n",
    "    plt.xlabel('(c)',fontsize=25)\n",
    "\n",
    "    \n",
    "    plt.subplot(1,4,4)\n",
    "    sns.distplot(ori[:,:,1], hist=False, color = '#ff7f0e' )\n",
    "    sns.distplot(gen[:,:,1], hist=False, color = '#1f77b4' )  \n",
    "    plt.xlabel('(d)',fontsize=25)\n",
    "    "
   ]
  },
  {
   "cell_type": "code",
   "execution_count": 4,
   "id": "8a88cf11",
   "metadata": {},
   "outputs": [],
   "source": [
    "def parse_args():\n",
    "    parser = argparse.ArgumentParser(description='PyTorch Training Script')\n",
    "    parser.add_argument('--name', type=str, default=None)\n",
    "\n",
    "    parser.add_argument('--config_file', type=str, default=None, \n",
    "                        help='path of config file')\n",
    "    parser.add_argument('--output', type=str, default='OUTPUT', \n",
    "                        help='directory to save the results')\n",
    "    parser.add_argument('--tensorboard', action='store_true', \n",
    "                        help='use tensorboard for logging')\n",
    "\n",
    "    # args for random\n",
    "\n",
    "    parser.add_argument('--cudnn_deterministic', action='store_true', default=False,\n",
    "                        help='set cudnn.deterministic True')\n",
    "    parser.add_argument('--seed', type=int, default=10, \n",
    "                        help='seed for initializing training.')\n",
    "    parser.add_argument('--gpu', type=int, default=None,\n",
    "                        help='GPU id to use. If given, only the specific gpu will be'\n",
    "                        ' used, and ddp will be disabled')\n",
    "    \n",
    "    # args for training\n",
    "    parser.add_argument('--train', action='store_true', default=False, help='Train or Test.')\n",
    "    parser.add_argument('--sample', type=int, default=0, \n",
    "                        choices=[0, 1], help='Condition or Uncondition.')\n",
    "    parser.add_argument('--mode', type=str, default='infill',\n",
    "                        help='Infilling or Forecasting.')\n",
    "    parser.add_argument('--milestone', type=int, default=10)\n",
    "\n",
    "    parser.add_argument('--missing_ratio', type=float, default=0., help='Ratio of Missing Values.')\n",
    "    parser.add_argument('--pred_len', type=int, default=0, help='Length of Predictions.')\n",
    "    \n",
    "    \n",
    "    # args for modify config\n",
    "    parser.add_argument('opts', help='Modify config options using the command-line',\n",
    "                        default=None, nargs=argparse.REMAINDER)  \n",
    "\n",
    "    args = parser.parse_args(args=[])\n",
    "    args.save_dir = os.path.join(args.output, f'{args.name}')\n",
    "\n",
    "    return args\n"
   ]
  },
  {
   "cell_type": "code",
   "execution_count": 5,
   "id": "f4a503d1",
   "metadata": {},
   "outputs": [
    {
     "name": "stdout",
     "output_type": "stream",
     "text": [
      "Namespace(name=None, config_file='./Config/exchange_rate.yaml', output='OUTPUT', tensorboard=False, cudnn_deterministic=False, seed=10, gpu=0, train=True, sample=0, mode='infill', milestone=10, missing_ratio=0.0, pred_len=0, opts=[], save_dir='OUTPUT\\\\None')\n"
     ]
    }
   ],
   "source": [
    "args = parse_args()\n",
    "\n",
    "# data_name = 'ETTh1'\n",
    "# data_name = 'Energy'\n",
    "# data_name = 'weather'\n",
    "data_name = 'exchange_rate'\n",
    "\n",
    "  \n",
    "if data_name == 'ETTh1':\n",
    "    args.config_file =  './Config/ETTh1.yaml'\n",
    "\n",
    "elif data_name == 'Energy':\n",
    "    args.config_file =  './Config/Energy.yaml'\n",
    "    \n",
    "elif data_name == 'exchange_rate':\n",
    "    args.config_file =  './Config/exchange_rate.yaml'\n",
    "    \n",
    "elif data_name == 'weather':\n",
    "    args.config_file =  './Config/weather.yaml'\n",
    "    \n",
    "args.gpu =  0\n",
    "args.train = True\n",
    "print(args)"
   ]
  },
  {
   "cell_type": "code",
   "execution_count": 7,
   "id": "8b39db9f",
   "metadata": {},
   "outputs": [
    {
     "name": "stdout",
     "output_type": "stream",
     "text": [
      "Global seed set to 10\n",
      "{'model': {'target': 'Models.interpretable_diffusion.gaussian_diffusion.Diffusion_TS', 'params': {'seq_length': 24, 'feature_size': 8, 'n_layer_enc': 4, 'n_layer_dec': 3, 'd_model': 96, 'timesteps': 500, 'sampling_timesteps': 500, 'loss_type': 'l1', 'beta_schedule': 'cosine', 'n_heads': 4, 'mlp_hidden_times': 4, 'attn_pd': 0.0, 'resid_pd': 0.0, 'kernel_size': 1, 'padding_size': 0}}, 'solver': {'base_lr': 1e-05, 'max_epochs': 25000, 'results_folder': './Checkpoints_energy', 'gradient_accumulate_every': 2, 'save_cycle': 2500, 'ema': {'decay': 0.995, 'update_interval': 10}, 'scheduler': {'target': 'engine.lr_sch.ReduceLROnPlateauWithWarmup', 'params': {'factor': 0.5, 'patience': 5000, 'min_lr': 1e-05, 'threshold': 0.1, 'threshold_mode': 'rel', 'warmup_lr': 0.0008, 'warmup': 500, 'verbose': False}}}, 'dataloader': {'train_dataset': {'target': 'Utils.Data_utils.real_datasets.CustomDataset', 'params': {'name': 'energy', 'proportion': 1.0, 'data_root': './Data/datasets/energy_data.csv', 'window': 24, 'save2npy': True, 'neg_one_to_one': True, 'seed': 123, 'period': 'train'}}, 'test_dataset': {'target': 'Utils.Data_utils.real_datasets.CustomDataset', 'params': {'name': 'energy', 'proportion': 0.9, 'data_root': './Data/datasets/energy_data.csv', 'window': 24, 'save2npy': True, 'neg_one_to_one': True, 'seed': 123, 'period': 'test', 'style': 'separate', 'distribution': 'geometric'}, 'coefficient': 0.01, 'step_size': 0.05, 'sampling_steps': 250}, 'batch_size': 128, 'sample_size': 256, 'shuffle': True}}\n"
     ]
    }
   ],
   "source": [
    "if args.seed is not None:\n",
    "    seed_everything(args.seed)\n",
    "\n",
    "if args.gpu is not None:\n",
    "    torch.cuda.set_device(args.gpu)\n",
    "\n",
    "config = load_yaml_config(args.config_file)\n",
    "config = merge_opts_to_config(config, args.opts)\n",
    "\n",
    "\n",
    "config['dataloader']['batch_size'] = 128\n",
    "print(config)\n",
    "\n",
    "beta_schedule = config['model']['params']['beta_schedule'] \n",
    "timesteps = config['model']['params']['timesteps'] "
   ]
  },
  {
   "cell_type": "code",
   "execution_count": 8,
   "id": "3406e18f",
   "metadata": {},
   "outputs": [
    {
     "name": "stdout",
     "output_type": "stream",
     "text": [
      "(2522, 24, 8)\n",
      "(2522, 24, 8)\n"
     ]
    }
   ],
   "source": [
    "import torch\n",
    "from torch.utils.data import Dataset\n",
    "from torch.utils.data import DataLoader\n",
    "\n",
    "\n",
    "if data_name == 'ETTh1':\n",
    "    load_data = np.load( './Data/datasets/ETTh1.npy')\n",
    "    \n",
    "elif data_name == 'Energy':\n",
    "    load_data = np.load( './Data/datasets/Energy.npy')\n",
    "    \n",
    "elif data_name == 'weather':\n",
    "    load_data = np.load( './Data/datasets/weather.npy')\n",
    "    \n",
    "elif data_name == 'exchange_rate':\n",
    "    load_data = np.load( './Data/datasets/exchange_rate.npy')\n",
    "    \n",
    "\n",
    "np.random.shuffle(load_data)\n",
    "\n",
    "Numble = load_data.shape[0]\n",
    "Length = load_data.shape[1]\n",
    "Feature = load_data.shape[2]\n",
    "   \n",
    "shape = (Numble, Length, Feature)\n",
    "print(shape)"
   ]
  },
  {
   "cell_type": "code",
   "execution_count": null,
   "id": "6b0886b8",
   "metadata": {},
   "outputs": [],
   "source": []
  },
  {
   "cell_type": "code",
   "execution_count": 9,
   "id": "6152062b",
   "metadata": {},
   "outputs": [],
   "source": [
    "def default(val, d):\n",
    "    if exists(val):\n",
    "        return val\n",
    "    return d() if callable(d) else d\n",
    "\n",
    "def exists(x):\n",
    "    return x is not None\n",
    "\n",
    "from Models.interpretable_diffusion.model_utils import default, identity, extract\n",
    "from Models.interpretable_diffusion.gaussian_diffusion import linear_beta_schedule, cosine_beta_schedule, Diffusion_TS\n",
    "import torch.nn.functional as F\n"
   ]
  },
  {
   "cell_type": "code",
   "execution_count": null,
   "id": "aebe342a",
   "metadata": {
    "scrolled": true
   },
   "outputs": [],
   "source": []
  },
  {
   "cell_type": "markdown",
   "id": "f0c57ce4",
   "metadata": {},
   "source": [
    "# load shortcut"
   ]
  },
  {
   "cell_type": "code",
   "execution_count": 10,
   "id": "855ddb2c",
   "metadata": {},
   "outputs": [],
   "source": [
    "shortcut = instantiate_from_config(config['model']).cuda()\n",
    "device = shortcut.betas.device"
   ]
  },
  {
   "cell_type": "code",
   "execution_count": 12,
   "id": "cfa3e29a",
   "metadata": {},
   "outputs": [],
   "source": [
    "start_lr = config['solver'].get('base_lr', 1.0e-4)\n",
    "ema_decay = config['solver']['ema']['decay']\n",
    "ema_update_every = config['solver']['ema']['update_interval']\n",
    "ema = EMA(shortcut, beta=ema_decay, update_every=ema_update_every).to(device)\n",
    "\n",
    "opt = Adam(filter(lambda p: p.requires_grad, shortcut.parameters()), lr=start_lr, betas=[0.9, 0.96])\n",
    "sc_cfg = config['solver']['scheduler']\n",
    "sc_cfg['params']['optimizer'] = opt   \n",
    "sch = instantiate_from_config(sc_cfg)   "
   ]
  },
  {
   "cell_type": "code",
   "execution_count": 13,
   "id": "af700df2",
   "metadata": {},
   "outputs": [],
   "source": [
    "ds = 1 / torch.tensor([2 ** i for i in range(1, 8)]).to(device)\n",
    "ds_p = torch.ones((ds.shape[0],)).to(device) / ds.shape[0]\n",
    "\n",
    "d = ds[ds_p.multinomial(5, replacement=True).to(device)]\n",
    "t = torch.rand(size=(10, 1), device=device)\n",
    "\n",
    "def reshape_coefs(t):\n",
    "    return t.reshape((t.shape[0], 1,  1))"
   ]
  },
  {
   "cell_type": "code",
   "execution_count": 14,
   "id": "59eb7fe3",
   "metadata": {},
   "outputs": [],
   "source": [
    "padding_masks = None\n",
    "clip_x_start = False\n",
    "clip_denoised = True"
   ]
  },
  {
   "cell_type": "code",
   "execution_count": 15,
   "id": "34c88127",
   "metadata": {},
   "outputs": [
    {
     "data": {
      "text/plain": [
       "<All keys matched successfully>"
      ]
     },
     "execution_count": 15,
     "metadata": {},
     "output_type": "execute_result"
    }
   ],
   "source": [
    "shortcut = instantiate_from_config(config['model']).cuda()\n",
    "\n",
    "# shortcut.load_state_dict(torch.load( \"./checkpoint/shortcut/ETTh1_shortcut.pth\"  ))\n",
    "# ema.load_state_dict(torch.load( \"./checkpoint/shortcut/ETTh1_ema_shortcut.pth\"  ))\n",
    "\n",
    "# shortcut.load_state_dict(torch.load( \"./checkpoint/shortcut/Energy_shortcut.pth\"  ))\n",
    "# ema.load_state_dict(torch.load( \"./checkpoint/shortcut/Energy_ema_shortcut.pth\"  ))\n",
    "\n",
    "shortcut.load_state_dict(torch.load( \"./checkpoint/shortcut/exchange_rate_shortcut.pth\"  ))\n",
    "ema.load_state_dict(torch.load( \"./checkpoint/shortcut/exchange_rate_ema_shortcut.pth\"  ))\n",
    "\n",
    "# shortcut.load_state_dict(torch.load( \"./checkpoint/shortcut/weather_shortcut.pth\"  ))\n",
    "# ema.load_state_dict(torch.load( \"./checkpoint/shortcut/weather_ema_shortcut.pth\"  ))\n"
   ]
  },
  {
   "cell_type": "code",
   "execution_count": 18,
   "id": "4f1df5ee",
   "metadata": {
    "scrolled": true
   },
   "outputs": [],
   "source": []
  },
  {
   "cell_type": "code",
   "execution_count": 35,
   "id": "90bdd313",
   "metadata": {
    "scrolled": true
   },
   "outputs": [],
   "source": []
  },
  {
   "cell_type": "markdown",
   "id": "bb823302",
   "metadata": {},
   "source": [
    "# refine pre-imputation"
   ]
  },
  {
   "cell_type": "code",
   "execution_count": 18,
   "id": "34dc565d",
   "metadata": {},
   "outputs": [],
   "source": [
    "from torch.autograd import Variable\n",
    "\n",
    "def get_mask_mcar(sample, mr): \n",
    "    mask = torch.ones(sample.shape).view(1,-1) \n",
    "    index = torch.tensor(range(mask.shape[1]))  \n",
    "    perm = torch.randperm(len(index)) \n",
    "    index = perm[ 0: round( mr*len(index) ) ]\n",
    "    mask[0][index]=0\n",
    "    mask = mask.view(sample.shape)\n",
    "    return mask\n",
    "\n",
    "\n",
    "def get_mask_mnr(sample, k):  \n",
    "    mask = torch.ones(sample.shape)\n",
    "    length_index = torch.tensor(range(mask.shape[0]))\n",
    "    list_of_segments_index = torch.split(length_index, k)\n",
    "    for channel in range(mask.shape[1]):\n",
    "        s_nan = random.choice(list_of_segments_index)\n",
    "        mask[:, channel][s_nan[0]:s_nan[-1] + 1] = 0\n",
    "\n",
    "    return mask\n"
   ]
  },
  {
   "cell_type": "code",
   "execution_count": null,
   "id": "42f5ad24",
   "metadata": {},
   "outputs": [],
   "source": []
  },
  {
   "cell_type": "code",
   "execution_count": 19,
   "id": "432dc193",
   "metadata": {},
   "outputs": [],
   "source": [
    "target = torch.tensor( load_data ).float().cuda()\n",
    "shape = target.shape\n",
    "b, c, n, = target.shape\n",
    "\n",
    "padding_masks = torch.ones(b, c, dtype=bool, device=device)"
   ]
  },
  {
   "cell_type": "markdown",
   "id": "12d28cbe",
   "metadata": {},
   "source": [
    "# choose missing rate, mechanism and pre-imputation model"
   ]
  },
  {
   "cell_type": "code",
   "execution_count": 20,
   "id": "dd38e489",
   "metadata": {},
   "outputs": [
    {
     "name": "stdout",
     "output_type": "stream",
     "text": [
      "0.3 7\n"
     ]
    }
   ],
   "source": [
    "mr = 0.3\n",
    "mechanism = 'mcar'  \n",
    "# mechanism = 'mnr' \n",
    "missing_length = int( mr * Length )\n",
    "print(mr, missing_length)\n",
    "\n",
    "pre_imputation = 'csdi'\n",
    "# pre_imputation = 'SAITS'\n",
    "# pre_imputation = 'Pyraformer'\n",
    "# pre_imputation = 'ImputeFormer'"
   ]
  },
  {
   "cell_type": "markdown",
   "id": "cfe18159",
   "metadata": {},
   "source": [
    "# make train dataset\n",
    "# exert artificial missing \n",
    "# treat train_data as samples with missing values represented by nan "
   ]
  },
  {
   "cell_type": "code",
   "execution_count": 21,
   "id": "33d5861d",
   "metadata": {
    "scrolled": true
   },
   "outputs": [
    {
     "name": "stdout",
     "output_type": "stream",
     "text": [
      "torch.Size([0, 24, 8])\n",
      "torch.Size([2522, 24, 8])\n"
     ]
    }
   ],
   "source": [
    "Mask = torch.empty([0, c, n])    \n",
    "print( Mask.shape)\n",
    "\n",
    "for i in range(target.shape[0]):\n",
    "    if mechanism == 'mcar':\n",
    "        one_mask = get_mask_mcar( target[0], mr)  \n",
    "    else:\n",
    "        one_mask = get_mask_mnr( target[0], missing_length) \n",
    "\n",
    "    one_mask = one_mask.unsqueeze(0)   \n",
    "    Mask = torch.row_stack([Mask, one_mask])\n",
    "\n",
    "Mask = Mask.float().cuda()\n",
    "train_data = target * Mask\n",
    "train_data[train_data == 0] = np.nan\n",
    "train_set = {\"X\": train_data}\n",
    "\n",
    "print( Mask.shape )\n"
   ]
  },
  {
   "cell_type": "markdown",
   "id": "3431e8f8",
   "metadata": {},
   "source": [
    "# make test dataset"
   ]
  },
  {
   "cell_type": "code",
   "execution_count": 22,
   "id": "da9922a6",
   "metadata": {},
   "outputs": [
    {
     "name": "stdout",
     "output_type": "stream",
     "text": [
      "torch.Size([2522, 24, 8])\n",
      "0.3 mcar\n"
     ]
    }
   ],
   "source": [
    "Mask_test = torch.empty([0, c, n])    \n",
    "for i in range(target.shape[0]):\n",
    "    if mechanism == 'mcar':\n",
    "        one_mask = get_mask_mcar( target[0], mr)  \n",
    "    else:\n",
    "        one_mask = get_mask_mnr( target[0], missing_length) \n",
    "\n",
    "    one_mask = one_mask.unsqueeze(0)   \n",
    "    Mask_test = torch.row_stack([Mask_test, one_mask])\n",
    "    \n",
    "Mask_test = Mask_test.float().cuda()\n",
    "print( Mask_test.shape )\n",
    "\n",
    "\n",
    "test_data = target * Mask_test\n",
    "test_data[test_data == 0] = np.nan\n",
    "test_set =  {\"X\": test_data}\n",
    "print(mr, mechanism)\n"
   ]
  },
  {
   "cell_type": "markdown",
   "id": "e13352d3",
   "metadata": {
    "scrolled": true
   },
   "source": [
    "# start pre-imputation "
   ]
  },
  {
   "cell_type": "code",
   "execution_count": 23,
   "id": "8e2f12a5",
   "metadata": {},
   "outputs": [],
   "source": [
    "from pypots.imputation import Pyraformer\n",
    "from pypots.imputation import SAITS  \n",
    "from pypots.imputation import ImputeFormer\n",
    "from pypots.imputation import Informer\n",
    "from pypots.imputation import CSDI\n",
    "from pypots.imputation import ETSformer\n",
    "from pypots.optim import Adam"
   ]
  },
  {
   "cell_type": "code",
   "execution_count": 24,
   "id": "7583bc07",
   "metadata": {
    "scrolled": true
   },
   "outputs": [
    {
     "name": "stderr",
     "output_type": "stream",
     "text": [
      "2025-08-06 12:52:57 [INFO]: No given device, using default device: cuda\n",
      "2025-08-06 12:52:57 [WARNING]: ‼️ saving_path not given. Model files and tensorboard file will not be saved.\n",
      "2025-08-06 12:52:58 [INFO]: CSDI initialized with the given hyperparameters, the number of trainable parameters: 1,693,825\n",
      "2025-08-06 12:53:00 [INFO]: Epoch 001 - training loss (default): 0.5518\n",
      "2025-08-06 12:53:03 [INFO]: Epoch 002 - training loss (default): 0.2089\n",
      "2025-08-06 12:53:05 [INFO]: Epoch 003 - training loss (default): 0.1191\n",
      "2025-08-06 12:53:07 [INFO]: Epoch 004 - training loss (default): 0.0906\n",
      "2025-08-06 12:53:09 [INFO]: Epoch 005 - training loss (default): 0.0825\n",
      "2025-08-06 12:53:12 [INFO]: Epoch 006 - training loss (default): 0.0603\n",
      "2025-08-06 12:53:14 [INFO]: Epoch 007 - training loss (default): 0.0542\n",
      "2025-08-06 12:53:16 [INFO]: Epoch 008 - training loss (default): 0.0528\n",
      "2025-08-06 12:53:19 [INFO]: Epoch 009 - training loss (default): 0.0585\n",
      "2025-08-06 12:53:21 [INFO]: Epoch 010 - training loss (default): 0.0507\n",
      "2025-08-06 12:53:23 [INFO]: Epoch 011 - training loss (default): 0.0490\n",
      "2025-08-06 12:53:26 [INFO]: Epoch 012 - training loss (default): 0.0415\n",
      "2025-08-06 12:53:28 [INFO]: Epoch 013 - training loss (default): 0.0434\n",
      "2025-08-06 12:53:30 [INFO]: Epoch 014 - training loss (default): 0.0452\n",
      "2025-08-06 12:53:33 [INFO]: Epoch 015 - training loss (default): 0.0395\n",
      "2025-08-06 12:53:35 [INFO]: Epoch 016 - training loss (default): 0.0392\n",
      "2025-08-06 12:53:37 [INFO]: Epoch 017 - training loss (default): 0.0442\n",
      "2025-08-06 12:53:39 [INFO]: Epoch 018 - training loss (default): 0.0405\n",
      "2025-08-06 12:53:42 [INFO]: Epoch 019 - training loss (default): 0.0366\n",
      "2025-08-06 12:53:44 [INFO]: Epoch 020 - training loss (default): 0.0383\n",
      "2025-08-06 12:53:46 [INFO]: Epoch 021 - training loss (default): 0.0371\n",
      "2025-08-06 12:53:48 [INFO]: Epoch 022 - training loss (default): 0.0326\n",
      "2025-08-06 12:53:51 [INFO]: Epoch 023 - training loss (default): 0.0401\n",
      "2025-08-06 12:53:53 [INFO]: Epoch 024 - training loss (default): 0.0362\n",
      "2025-08-06 12:53:55 [INFO]: Epoch 025 - training loss (default): 0.0315\n",
      "2025-08-06 12:53:58 [INFO]: Epoch 026 - training loss (default): 0.0319\n",
      "2025-08-06 12:54:00 [INFO]: Epoch 027 - training loss (default): 0.0319\n",
      "2025-08-06 12:54:02 [INFO]: Epoch 028 - training loss (default): 0.0355\n",
      "2025-08-06 12:54:04 [INFO]: Epoch 029 - training loss (default): 0.0330\n",
      "2025-08-06 12:54:07 [INFO]: Epoch 030 - training loss (default): 0.0304\n",
      "2025-08-06 12:54:09 [INFO]: Epoch 031 - training loss (default): 0.0308\n",
      "2025-08-06 12:54:11 [INFO]: Epoch 032 - training loss (default): 0.0315\n",
      "2025-08-06 12:54:14 [INFO]: Epoch 033 - training loss (default): 0.0249\n",
      "2025-08-06 12:54:16 [INFO]: Epoch 034 - training loss (default): 0.0308\n",
      "2025-08-06 12:54:18 [INFO]: Epoch 035 - training loss (default): 0.0282\n",
      "2025-08-06 12:54:21 [INFO]: Epoch 036 - training loss (default): 0.0255\n",
      "2025-08-06 12:54:23 [INFO]: Epoch 037 - training loss (default): 0.0271\n",
      "2025-08-06 12:54:25 [INFO]: Epoch 038 - training loss (default): 0.0296\n",
      "2025-08-06 12:54:27 [INFO]: Epoch 039 - training loss (default): 0.0305\n",
      "2025-08-06 12:54:30 [INFO]: Epoch 040 - training loss (default): 0.0283\n",
      "2025-08-06 12:54:32 [INFO]: Epoch 041 - training loss (default): 0.0300\n",
      "2025-08-06 12:54:34 [INFO]: Epoch 042 - training loss (default): 0.0312\n",
      "2025-08-06 12:54:36 [INFO]: Epoch 043 - training loss (default): 0.0315\n",
      "2025-08-06 12:54:39 [INFO]: Epoch 044 - training loss (default): 0.0236\n",
      "2025-08-06 12:54:41 [INFO]: Epoch 045 - training loss (default): 0.0277\n",
      "2025-08-06 12:54:43 [INFO]: Epoch 046 - training loss (default): 0.0263\n",
      "2025-08-06 12:54:46 [INFO]: Epoch 047 - training loss (default): 0.0288\n",
      "2025-08-06 12:54:48 [INFO]: Epoch 048 - training loss (default): 0.0271\n",
      "2025-08-06 12:54:50 [INFO]: Epoch 049 - training loss (default): 0.0263\n",
      "2025-08-06 12:54:52 [INFO]: Epoch 050 - training loss (default): 0.0229\n",
      "2025-08-06 12:54:55 [INFO]: Epoch 051 - training loss (default): 0.0252\n",
      "2025-08-06 12:54:57 [INFO]: Epoch 052 - training loss (default): 0.0261\n",
      "2025-08-06 12:54:59 [INFO]: Epoch 053 - training loss (default): 0.0273\n",
      "2025-08-06 12:55:01 [INFO]: Epoch 054 - training loss (default): 0.0263\n",
      "2025-08-06 12:55:04 [INFO]: Epoch 055 - training loss (default): 0.0240\n",
      "2025-08-06 12:55:06 [INFO]: Epoch 056 - training loss (default): 0.0213\n",
      "2025-08-06 12:55:08 [INFO]: Epoch 057 - training loss (default): 0.0212\n",
      "2025-08-06 12:55:11 [INFO]: Epoch 058 - training loss (default): 0.0232\n",
      "2025-08-06 12:55:13 [INFO]: Epoch 059 - training loss (default): 0.0253\n",
      "2025-08-06 12:55:15 [INFO]: Epoch 060 - training loss (default): 0.0244\n",
      "2025-08-06 12:55:17 [INFO]: Epoch 061 - training loss (default): 0.0237\n",
      "2025-08-06 12:55:20 [INFO]: Epoch 062 - training loss (default): 0.0243\n",
      "2025-08-06 12:55:22 [INFO]: Epoch 063 - training loss (default): 0.0242\n",
      "2025-08-06 12:55:24 [INFO]: Epoch 064 - training loss (default): 0.0281\n",
      "2025-08-06 12:55:27 [INFO]: Epoch 065 - training loss (default): 0.0262\n",
      "2025-08-06 12:55:29 [INFO]: Epoch 066 - training loss (default): 0.0251\n",
      "2025-08-06 12:55:31 [INFO]: Epoch 067 - training loss (default): 0.0240\n",
      "2025-08-06 12:55:33 [INFO]: Epoch 068 - training loss (default): 0.0274\n",
      "2025-08-06 12:55:36 [INFO]: Epoch 069 - training loss (default): 0.0245\n",
      "2025-08-06 12:55:38 [INFO]: Epoch 070 - training loss (default): 0.0245\n",
      "2025-08-06 12:55:40 [INFO]: Epoch 071 - training loss (default): 0.0244\n",
      "2025-08-06 12:55:43 [INFO]: Epoch 072 - training loss (default): 0.0213\n",
      "2025-08-06 12:55:45 [INFO]: Epoch 073 - training loss (default): 0.0206\n",
      "2025-08-06 12:55:47 [INFO]: Epoch 074 - training loss (default): 0.0226\n",
      "2025-08-06 12:55:49 [INFO]: Epoch 075 - training loss (default): 0.0220\n",
      "2025-08-06 12:55:52 [INFO]: Epoch 076 - training loss (default): 0.0232\n",
      "2025-08-06 12:55:54 [INFO]: Epoch 077 - training loss (default): 0.0249\n",
      "2025-08-06 12:55:56 [INFO]: Epoch 078 - training loss (default): 0.0211\n",
      "2025-08-06 12:55:59 [INFO]: Epoch 079 - training loss (default): 0.0212\n",
      "2025-08-06 12:56:01 [INFO]: Epoch 080 - training loss (default): 0.0217\n",
      "2025-08-06 12:56:03 [INFO]: Epoch 081 - training loss (default): 0.0217\n",
      "2025-08-06 12:56:05 [INFO]: Epoch 082 - training loss (default): 0.0227\n",
      "2025-08-06 12:56:08 [INFO]: Epoch 083 - training loss (default): 0.0216\n",
      "2025-08-06 12:56:10 [INFO]: Epoch 084 - training loss (default): 0.0252\n",
      "2025-08-06 12:56:12 [INFO]: Epoch 085 - training loss (default): 0.0221\n",
      "2025-08-06 12:56:14 [INFO]: Epoch 086 - training loss (default): 0.0214\n",
      "2025-08-06 12:56:17 [INFO]: Epoch 087 - training loss (default): 0.0225\n",
      "2025-08-06 12:56:19 [INFO]: Epoch 088 - training loss (default): 0.0260\n",
      "2025-08-06 12:56:21 [INFO]: Epoch 089 - training loss (default): 0.0252\n",
      "2025-08-06 12:56:24 [INFO]: Epoch 090 - training loss (default): 0.0210\n",
      "2025-08-06 12:56:26 [INFO]: Epoch 091 - training loss (default): 0.0179\n",
      "2025-08-06 12:56:28 [INFO]: Epoch 092 - training loss (default): 0.0194\n",
      "2025-08-06 12:56:30 [INFO]: Epoch 093 - training loss (default): 0.0250\n",
      "2025-08-06 12:56:33 [INFO]: Epoch 094 - training loss (default): 0.0215\n",
      "2025-08-06 12:56:35 [INFO]: Epoch 095 - training loss (default): 0.0195\n",
      "2025-08-06 12:56:37 [INFO]: Epoch 096 - training loss (default): 0.0195\n",
      "2025-08-06 12:56:39 [INFO]: Epoch 097 - training loss (default): 0.0253\n",
      "2025-08-06 12:56:42 [INFO]: Epoch 098 - training loss (default): 0.0239\n",
      "2025-08-06 12:56:44 [INFO]: Epoch 099 - training loss (default): 0.0186\n",
      "2025-08-06 12:56:46 [INFO]: Epoch 100 - training loss (default): 0.0222\n",
      "2025-08-06 12:56:49 [INFO]: Epoch 101 - training loss (default): 0.0214\n",
      "2025-08-06 12:56:51 [INFO]: Epoch 102 - training loss (default): 0.0192\n",
      "2025-08-06 12:56:53 [INFO]: Epoch 103 - training loss (default): 0.0207\n",
      "2025-08-06 12:56:55 [INFO]: Epoch 104 - training loss (default): 0.0216\n",
      "2025-08-06 12:56:58 [INFO]: Epoch 105 - training loss (default): 0.0224\n",
      "2025-08-06 12:57:00 [INFO]: Epoch 106 - training loss (default): 0.0224\n",
      "2025-08-06 12:57:02 [INFO]: Epoch 107 - training loss (default): 0.0221\n",
      "2025-08-06 12:57:05 [INFO]: Epoch 108 - training loss (default): 0.0215\n",
      "2025-08-06 12:57:07 [INFO]: Epoch 109 - training loss (default): 0.0186\n",
      "2025-08-06 12:57:09 [INFO]: Epoch 110 - training loss (default): 0.0204\n"
     ]
    },
    {
     "name": "stderr",
     "output_type": "stream",
     "text": [
      "2025-08-06 12:57:11 [INFO]: Epoch 111 - training loss (default): 0.0207\n",
      "2025-08-06 12:57:14 [INFO]: Epoch 112 - training loss (default): 0.0200\n",
      "2025-08-06 12:57:16 [INFO]: Epoch 113 - training loss (default): 0.0216\n",
      "2025-08-06 12:57:18 [INFO]: Epoch 114 - training loss (default): 0.0216\n",
      "2025-08-06 12:57:21 [INFO]: Epoch 115 - training loss (default): 0.0213\n",
      "2025-08-06 12:57:23 [INFO]: Epoch 116 - training loss (default): 0.0192\n",
      "2025-08-06 12:57:25 [INFO]: Epoch 117 - training loss (default): 0.0211\n",
      "2025-08-06 12:57:27 [INFO]: Epoch 118 - training loss (default): 0.0201\n",
      "2025-08-06 12:57:30 [INFO]: Epoch 119 - training loss (default): 0.0236\n",
      "2025-08-06 12:57:32 [INFO]: Epoch 120 - training loss (default): 0.0224\n",
      "2025-08-06 12:57:34 [INFO]: Epoch 121 - training loss (default): 0.0183\n",
      "2025-08-06 12:57:36 [INFO]: Epoch 122 - training loss (default): 0.0207\n",
      "2025-08-06 12:57:39 [INFO]: Epoch 123 - training loss (default): 0.0213\n",
      "2025-08-06 12:57:41 [INFO]: Epoch 124 - training loss (default): 0.0234\n",
      "2025-08-06 12:57:43 [INFO]: Epoch 125 - training loss (default): 0.0226\n",
      "2025-08-06 12:57:46 [INFO]: Epoch 126 - training loss (default): 0.0194\n",
      "2025-08-06 12:57:48 [INFO]: Epoch 127 - training loss (default): 0.0216\n",
      "2025-08-06 12:57:50 [INFO]: Epoch 128 - training loss (default): 0.0197\n",
      "2025-08-06 12:57:53 [INFO]: Epoch 129 - training loss (default): 0.0214\n",
      "2025-08-06 12:57:55 [INFO]: Epoch 130 - training loss (default): 0.0228\n",
      "2025-08-06 12:57:57 [INFO]: Epoch 131 - training loss (default): 0.0223\n",
      "2025-08-06 12:57:59 [INFO]: Epoch 132 - training loss (default): 0.0202\n",
      "2025-08-06 12:58:02 [INFO]: Epoch 133 - training loss (default): 0.0175\n",
      "2025-08-06 12:58:04 [INFO]: Epoch 134 - training loss (default): 0.0197\n",
      "2025-08-06 12:58:06 [INFO]: Epoch 135 - training loss (default): 0.0171\n",
      "2025-08-06 12:58:09 [INFO]: Epoch 136 - training loss (default): 0.0219\n",
      "2025-08-06 12:58:11 [INFO]: Epoch 137 - training loss (default): 0.0176\n",
      "2025-08-06 12:58:13 [INFO]: Epoch 138 - training loss (default): 0.0211\n",
      "2025-08-06 12:58:15 [INFO]: Epoch 139 - training loss (default): 0.0177\n",
      "2025-08-06 12:58:18 [INFO]: Epoch 140 - training loss (default): 0.0204\n",
      "2025-08-06 12:58:20 [INFO]: Epoch 141 - training loss (default): 0.0203\n",
      "2025-08-06 12:58:22 [INFO]: Epoch 142 - training loss (default): 0.0179\n",
      "2025-08-06 12:58:25 [INFO]: Epoch 143 - training loss (default): 0.0161\n",
      "2025-08-06 12:58:27 [INFO]: Epoch 144 - training loss (default): 0.0175\n",
      "2025-08-06 12:58:29 [INFO]: Epoch 145 - training loss (default): 0.0189\n",
      "2025-08-06 12:58:31 [INFO]: Epoch 146 - training loss (default): 0.0184\n",
      "2025-08-06 12:58:34 [INFO]: Epoch 147 - training loss (default): 0.0157\n",
      "2025-08-06 12:58:36 [INFO]: Epoch 148 - training loss (default): 0.0211\n",
      "2025-08-06 12:58:38 [INFO]: Epoch 149 - training loss (default): 0.0213\n",
      "2025-08-06 12:58:41 [INFO]: Epoch 150 - training loss (default): 0.0216\n",
      "2025-08-06 12:58:43 [INFO]: Epoch 151 - training loss (default): 0.0212\n",
      "2025-08-06 12:58:45 [INFO]: Epoch 152 - training loss (default): 0.0168\n",
      "2025-08-06 12:58:47 [INFO]: Epoch 153 - training loss (default): 0.0208\n",
      "2025-08-06 12:58:50 [INFO]: Epoch 154 - training loss (default): 0.0205\n",
      "2025-08-06 12:58:52 [INFO]: Epoch 155 - training loss (default): 0.0174\n",
      "2025-08-06 12:58:54 [INFO]: Epoch 156 - training loss (default): 0.0191\n",
      "2025-08-06 12:58:57 [INFO]: Epoch 157 - training loss (default): 0.0195\n",
      "2025-08-06 12:58:59 [INFO]: Epoch 158 - training loss (default): 0.0196\n",
      "2025-08-06 12:59:01 [INFO]: Epoch 159 - training loss (default): 0.0188\n",
      "2025-08-06 12:59:03 [INFO]: Epoch 160 - training loss (default): 0.0183\n",
      "2025-08-06 12:59:06 [INFO]: Epoch 161 - training loss (default): 0.0202\n",
      "2025-08-06 12:59:08 [INFO]: Epoch 162 - training loss (default): 0.0169\n",
      "2025-08-06 12:59:10 [INFO]: Epoch 163 - training loss (default): 0.0191\n",
      "2025-08-06 12:59:13 [INFO]: Epoch 164 - training loss (default): 0.0184\n",
      "2025-08-06 12:59:15 [INFO]: Epoch 165 - training loss (default): 0.0200\n",
      "2025-08-06 12:59:17 [INFO]: Epoch 166 - training loss (default): 0.0178\n",
      "2025-08-06 12:59:19 [INFO]: Epoch 167 - training loss (default): 0.0204\n",
      "2025-08-06 12:59:22 [INFO]: Epoch 168 - training loss (default): 0.0205\n",
      "2025-08-06 12:59:24 [INFO]: Epoch 169 - training loss (default): 0.0173\n",
      "2025-08-06 12:59:26 [INFO]: Epoch 170 - training loss (default): 0.0174\n",
      "2025-08-06 12:59:29 [INFO]: Epoch 171 - training loss (default): 0.0211\n",
      "2025-08-06 12:59:31 [INFO]: Epoch 172 - training loss (default): 0.0190\n",
      "2025-08-06 12:59:33 [INFO]: Epoch 173 - training loss (default): 0.0201\n",
      "2025-08-06 12:59:35 [INFO]: Epoch 174 - training loss (default): 0.0203\n",
      "2025-08-06 12:59:38 [INFO]: Epoch 175 - training loss (default): 0.0170\n",
      "2025-08-06 12:59:40 [INFO]: Epoch 176 - training loss (default): 0.0188\n",
      "2025-08-06 12:59:42 [INFO]: Epoch 177 - training loss (default): 0.0175\n",
      "2025-08-06 12:59:45 [INFO]: Epoch 178 - training loss (default): 0.0172\n",
      "2025-08-06 12:59:47 [INFO]: Epoch 179 - training loss (default): 0.0190\n",
      "2025-08-06 12:59:49 [INFO]: Epoch 180 - training loss (default): 0.0180\n",
      "2025-08-06 12:59:52 [INFO]: Epoch 181 - training loss (default): 0.0174\n",
      "2025-08-06 12:59:54 [INFO]: Epoch 182 - training loss (default): 0.0185\n",
      "2025-08-06 12:59:56 [INFO]: Epoch 183 - training loss (default): 0.0193\n",
      "2025-08-06 12:59:58 [INFO]: Epoch 184 - training loss (default): 0.0201\n",
      "2025-08-06 13:00:01 [INFO]: Epoch 185 - training loss (default): 0.0185\n",
      "2025-08-06 13:00:03 [INFO]: Epoch 186 - training loss (default): 0.0170\n",
      "2025-08-06 13:00:05 [INFO]: Epoch 187 - training loss (default): 0.0175\n",
      "2025-08-06 13:00:07 [INFO]: Epoch 188 - training loss (default): 0.0176\n",
      "2025-08-06 13:00:10 [INFO]: Epoch 189 - training loss (default): 0.0189\n",
      "2025-08-06 13:00:12 [INFO]: Epoch 190 - training loss (default): 0.0189\n",
      "2025-08-06 13:00:14 [INFO]: Epoch 191 - training loss (default): 0.0157\n",
      "2025-08-06 13:00:17 [INFO]: Epoch 192 - training loss (default): 0.0192\n",
      "2025-08-06 13:00:19 [INFO]: Epoch 193 - training loss (default): 0.0145\n",
      "2025-08-06 13:00:21 [INFO]: Epoch 194 - training loss (default): 0.0192\n",
      "2025-08-06 13:00:23 [INFO]: Epoch 195 - training loss (default): 0.0177\n",
      "2025-08-06 13:00:26 [INFO]: Epoch 196 - training loss (default): 0.0179\n",
      "2025-08-06 13:00:28 [INFO]: Epoch 197 - training loss (default): 0.0210\n",
      "2025-08-06 13:00:30 [INFO]: Epoch 198 - training loss (default): 0.0174\n",
      "2025-08-06 13:00:33 [INFO]: Epoch 199 - training loss (default): 0.0162\n",
      "2025-08-06 13:00:35 [INFO]: Epoch 200 - training loss (default): 0.0178\n",
      "2025-08-06 13:00:35 [INFO]: Finished training. The best model is from epoch#193.\n"
     ]
    }
   ],
   "source": [
    "if pre_imputation == 'Pyraformer':\n",
    "    pyraformer = Pyraformer( \n",
    "        n_steps = train_data.shape[1], n_features = train_data.shape[2],\n",
    "        n_layers= 4, n_heads = 4,\n",
    "        d_model = 256, d_ffn = 512,\n",
    "        window_size = [1, 1, 1],\n",
    "        inner_size = 3,\n",
    "        dropout = 0.1,\n",
    "        batch_size=200, epochs=1000,  )\n",
    "\n",
    "    pyraformer.fit( train_set = train_set  )\n",
    "\n",
    "    \n",
    "elif pre_imputation == 'SAITS':\n",
    "    saits = SAITS(n_steps=train_data.shape[1], n_features=train_data.shape[2],\n",
    "                  n_layers=2, d_model=256, n_heads=4, d_k=64, d_v=64, d_ffn=128, dropout=0.1, \n",
    "                  num_workers=0, optimizer=Adam(lr=1e-3), \n",
    "                  batch_size=200, epochs=800, )\n",
    "\n",
    "    saits.fit( train_set = train_set) \n",
    "    \n",
    "    \n",
    "elif pre_imputation == 'ImputeFormer':\n",
    "    imputeFormer = ImputeFormer( \n",
    "    n_steps = train_data.shape[1], n_features = train_data.shape[2],\n",
    "    n_layers=4,\n",
    "    d_input_embed= 24, d_learnable_embed=128,     \n",
    "    d_proj= 36,  d_ffn=256, \n",
    "    n_temporal_heads=4, \n",
    "    ORT_weight=1, MIT_weight=1,\n",
    "    batch_size=200, epochs=400,  )\n",
    "    \n",
    "    imputeFormer.fit( train_set = train_set  )\n",
    "    \n",
    "\n",
    "elif pre_imputation == 'csdi':\n",
    "    csdi = CSDI(\n",
    "        n_steps= train_data.shape[1], n_features= train_data.shape[2],\n",
    "        n_layers=6, n_heads=2, n_channels=128,\n",
    "        d_time_embedding=64, d_feature_embedding=32, d_diffusion_embedding=128,\n",
    "        target_strategy=\"random\",\n",
    "        n_diffusion_steps=50,\n",
    "        batch_size=200,              \n",
    "        epochs=200,\n",
    "        optimizer=Adam(lr=1e-3),\n",
    "        num_workers=0, )\n",
    "    \n",
    "    csdi.fit( train_set = train_set )"
   ]
  },
  {
   "cell_type": "markdown",
   "id": "04f97ccb",
   "metadata": {},
   "source": [
    "# RMSE of pre-imputation "
   ]
  },
  {
   "cell_type": "code",
   "execution_count": 25,
   "id": "201d2629",
   "metadata": {},
   "outputs": [],
   "source": [
    "if pre_imputation == 'Pyraformer':\n",
    "    result_pre = pyraformer.predict(test_set)\n",
    "    \n",
    "elif pre_imputation == 'SAITS':\n",
    "    result_pre = saits.predict(test_set)\n",
    "    \n",
    "elif pre_imputation == 'ImputeFormer':\n",
    "    result_pre = imputeFormer.predict(test_set)\n",
    "\n",
    "elif pre_imputation == 'csdi':\n",
    "    result_pre = csdi.predict(test_set, n_sampling_times=2)  \n",
    "    \n",
    "\n",
    "if pre_imputation == 'csdi':\n",
    "    result_pre = result_pre[\"imputation\"]\n",
    "    result_pre = result_pre.mean(axis=1)\n",
    "else:   \n",
    "    result_pre = result_pre[\"imputation\"]"
   ]
  },
  {
   "cell_type": "code",
   "execution_count": 27,
   "id": "c8133d90",
   "metadata": {},
   "outputs": [
    {
     "name": "stdout",
     "output_type": "stream",
     "text": [
      "0.0127 0.00758\n"
     ]
    }
   ],
   "source": [
    "rmse = calc_rmse( result_pre, target.cpu().numpy(), 1-Mask_test.cpu().numpy())\n",
    "mae = calc_mae( result_pre, target.cpu().numpy(), 1-Mask_test.cpu().numpy())  \n",
    "print(np.around(rmse,5), np.around(mae,5) )"
   ]
  },
  {
   "cell_type": "code",
   "execution_count": null,
   "id": "1b00af24",
   "metadata": {},
   "outputs": [],
   "source": []
  },
  {
   "cell_type": "code",
   "execution_count": 28,
   "id": "dcce89b5",
   "metadata": {},
   "outputs": [],
   "source": [
    "n_steps =100  \n",
    "eps = 1e-8\n",
    "\n",
    "d = torch.tensor(1 / n_steps).to(device)\n",
    "\n",
    "padding_masks = torch.ones(b, c, dtype=bool, device=device)"
   ]
  },
  {
   "cell_type": "markdown",
   "id": "6e90c43b",
   "metadata": {},
   "source": [
    "# refine pre-imputation result guided by pre-trained flow prior\n",
    "# set inversion step K and refinement step N"
   ]
  },
  {
   "cell_type": "code",
   "execution_count": 47,
   "id": "fb8f1fcd",
   "metadata": {},
   "outputs": [
    {
     "name": "stderr",
     "output_type": "stream",
     "text": [
      "100%|████████████████████████████████████████████████████████████████████████████████████| 6/6 [00:45<00:00,  7.58s/it]\n"
     ]
    }
   ],
   "source": [
    "loss_list = []\n",
    "loss_missing_list = []\n",
    "\n",
    "inversion_iter = 1\n",
    "refine_iter = 5\n",
    "\n",
    "pbar = tqdm( total= inversion_iter * refine_iter + inversion_iter )   \n",
    "\n",
    "for j in range(0, inversion_iter  ):\n",
    "    \n",
    "    if j==0:       \n",
    "        x_t = torch.tensor(result_pre).cuda()*(1- Mask_test) + target*Mask_test\n",
    "    else:          \n",
    "        x_t = refined_res*(1- Mask_test) + target*Mask_test\n",
    "        \n",
    "    t = torch.linspace( 1-eps, eps, n_steps+1 ).to(device)\n",
    "    \n",
    "    \n",
    "    '-----------------flow inversion--------------'\n",
    "    for i in range(1, len(t)):\n",
    "        t_batch = t[ i-1 ].unsqueeze(0).repeat((b,))\n",
    "        d_batch = d.unsqueeze(0).repeat((b,))\n",
    "        with torch.no_grad():\n",
    "            v_pred = ema.ema_model.output(x_t, t_batch, d=d_batch, padding_masks=padding_masks) \n",
    "        x_t = x_t - (t[i-1] - t[i]) * v_pred\n",
    "        \n",
    "    inverted_code = Variable( x_t, requires_grad=True)\n",
    "    optimizer = torch.optim.Adam(  [inverted_code], lr=0.001)  \n",
    "\n",
    "    pbar.update(1)\n",
    "    \n",
    "    \n",
    "    '-----------------flow sampling---------------'\n",
    "    t = torch.linspace( eps, 1-eps , n_steps+1 ).to(device)\n",
    "        \n",
    "    for i in range(0, refine_iter):\n",
    "        \n",
    "        x_t = inverted_code\n",
    "\n",
    "        for i in range(1, len(t)):\n",
    "            t_batch = t[ i-1 ].unsqueeze(0).repeat((b,))\n",
    "            d_batch = d.unsqueeze(0).repeat((b,))\n",
    "\n",
    "            with torch.no_grad():\n",
    "                v_pred = ema.ema_model.output(x_t, t_batch, d=d_batch, padding_masks=padding_masks) \n",
    "\n",
    "            x_t = x_t + (t[i] - t[i - 1]) * v_pred\n",
    "\n",
    "        refined_res = x_t\n",
    "\n",
    "        loss = F.mse_loss( x_t*Mask_test , target*Mask_test , reduction=\"none\")\n",
    "        \n",
    "        loss = loss.sum()/Mask.sum()\n",
    "        \n",
    "        loss_list.append(loss.item() )\n",
    "\n",
    "\n",
    "        loss_missing = F.mse_loss( x_t*(1-Mask_test), target*(1-Mask_test), reduction=\"none\")\n",
    "        loss_missing = loss_missing.sum()/(1-Mask_test).sum()\n",
    "        loss_missing_list.append(loss_missing.item() )\n",
    "\n",
    "\n",
    "        loss.float().backward() \n",
    "        optimizer.step()\n",
    "        optimizer.zero_grad()\n",
    "\n",
    "        pbar.update(1)\n",
    "\n",
    "pbar.close()"
   ]
  },
  {
   "cell_type": "code",
   "execution_count": 48,
   "id": "9779bac8",
   "metadata": {},
   "outputs": [
    {
     "name": "stdout",
     "output_type": "stream",
     "text": [
      "[0.01079 0.01062 0.01051 0.01044 0.0104 ]\n"
     ]
    },
    {
     "data": {
      "text/plain": [
       "Text(0.5, 1.0, 'evolution of refined RMSE')"
      ]
     },
     "execution_count": 48,
     "metadata": {},
     "output_type": "execute_result"
    },
    {
     "data": {
      "image/png": "[encoded data removed]",
      "text/plain": [
       "<Figure size 640x480 with 1 Axes>"
      ]
     },
     "metadata": {},
     "output_type": "display_data"
    }
   ],
   "source": [
    "rmse1 = list( map(lambda x: x ** (1/2), loss_list) )\n",
    "rmse2 = list( map(lambda x: x ** (1/2), loss_missing_list) )\n",
    "print( np.around( rmse2, 5 )  )\n",
    "\n",
    "plt.figure()\n",
    "# plt.plot(rmse1)\n",
    "plt.plot(rmse2)\n",
    "plt.title('evolution of refined RMSE')"
   ]
  },
  {
   "cell_type": "markdown",
   "id": "fcbebf20",
   "metadata": {},
   "source": [
    "# refined pre-imputation  RMSE"
   ]
  },
  {
   "cell_type": "code",
   "execution_count": 49,
   "id": "7ec51ebc",
   "metadata": {},
   "outputs": [
    {
     "name": "stdout",
     "output_type": "stream",
     "text": [
      "RMSE tensor(0.0104, grad_fn=<ToCopyBackward0>)\n",
      "MAE tensor(0.0060, grad_fn=<ToCopyBackward0>)\n"
     ]
    }
   ],
   "source": [
    "rmse = calc_rmse( refined_res, target,1-Mask_test).cpu()\n",
    "mae = calc_mae( refined_res, target, 1-Mask_test).cpu() \n",
    "print( 'RMSE', rmse )\n",
    "print( 'MAE', mae )"
   ]
  },
  {
   "cell_type": "markdown",
   "id": "7ec18254",
   "metadata": {},
   "source": [
    "# visualization"
   ]
  },
  {
   "cell_type": "code",
   "execution_count": 50,
   "id": "8ace9bef",
   "metadata": {},
   "outputs": [],
   "source": [
    "Number = target.shape[0]\n",
    "Attribute = target.shape[2]"
   ]
  },
  {
   "cell_type": "code",
   "execution_count": 51,
   "id": "49e84e88",
   "metadata": {},
   "outputs": [],
   "source": [
    "mask = Mask_test.cpu().detach().numpy()\n",
    "\n",
    "res_pre = result_pre \n",
    "res_refine = ( refined_res*(1- Mask_test) + target*Mask_test ).cpu().detach().numpy()\n",
    "\n",
    "ob = target.cpu().detach().numpy()"
   ]
  },
  {
   "cell_type": "code",
   "execution_count": 92,
   "id": "eb5590a4",
   "metadata": {},
   "outputs": [
    {
     "data": {
      "text/plain": [
       "[<matplotlib.lines.Line2D at 0x21ad29831c0>]"
      ]
     },
     "execution_count": 92,
     "metadata": {},
     "output_type": "execute_result"
    },
    {
     "data": {
      "image/png": "[encoded data removed]",
      "text/plain": [
       "<Figure size 700x200 with 2 Axes>"
      ]
     },
     "metadata": {},
     "output_type": "display_data"
    }
   ],
   "source": [
    "sample_ind1 = np.random.randint( 0, Number )\n",
    "attr_ind1 = np.random.randint( 0, Attribute )\n",
    "\n",
    "sample_ind2 = np.random.randint( 0, Number )\n",
    "attr_ind2 = np.random.randint( 0, Attribute )\n",
    "\n",
    "sample_ind3 = np.random.randint( 0, Number )\n",
    "attr_ind3 = np.random.randint( 0, Attribute )\n",
    "\n",
    "sample_ind4 = np.random.randint( 0, Number )\n",
    "attr_ind4 = np.random.randint( 0, Attribute )\n",
    "\n",
    "\n",
    "\n",
    "fig = plt.figure(figsize=(7,2))\n",
    "\n",
    "plt.subplot(1,2,1)\n",
    "plt.plot(res_pre[sample_ind1][:,attr_ind1],  alpha=1,label='pre-impute') \n",
    "plt.plot(res_refine[sample_ind1][:,attr_ind1], alpha=1, label='refine' ) \n",
    "plt.plot(ob[sample_ind1][:,attr_ind1],c='k', alpha=0.7, ) \n",
    "\n",
    "\n",
    "plt.subplot(1,2,2)\n",
    "plt.plot(res_pre[sample_ind2][:,attr_ind2],  alpha=1,label='pre-impute') \n",
    "plt.plot(res_refine[sample_ind2][:,attr_ind2], alpha=1, label='refine' ) \n",
    "plt.plot(ob[sample_ind2][:,attr_ind2],c='k', alpha=0.7, ) \n"
   ]
  },
  {
   "cell_type": "code",
   "execution_count": null,
   "id": "925a514f",
   "metadata": {},
   "outputs": [],
   "source": []
  },
  {
   "cell_type": "code",
   "execution_count": null,
   "id": "3fc92553",
   "metadata": {},
   "outputs": [],
   "source": []
  }
 ],
 "metadata": {
  "kernelspec": {
   "display_name": "Python 3 (ipykernel)",
   "language": "python",
   "name": "python3"
  },
  "language_info": {
   "codemirror_mode": {
    "name": "ipython",
    "version": 3
   },
   "file_extension": ".py",
   "mimetype": "text/x-python",
   "name": "python",
   "nbconvert_exporter": "python",
   "pygments_lexer": "ipython3",
   "version": "3.9.13"
  }
 },
 "nbformat": 4,
 "nbformat_minor": 5
}
