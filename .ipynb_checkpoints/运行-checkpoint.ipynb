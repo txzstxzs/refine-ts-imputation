{
 "cells": [
  {
   "cell_type": "code",
   "execution_count": 2,
   "id": "e345219f",
   "metadata": {},
   "outputs": [
    {
     "name": "stdout",
     "output_type": "stream",
     "text": [
      "Global seed set to 12345\n",
      "{'overall': {'trainable': '287.49K', 'non_trainable': '0', 'total': '287.49K'}, 'model': {'trainable': '287.49K', 'non_trainable': '0', 'total': '287.49K'}}\n",
      "None: start training...\n"
     ]
    },
    {
     "data": {
      "application/vnd.jupyter.widget-view+json": {
       "model_id": "6c311fb440fd476a914710bf08a73064",
       "version_major": 2,
       "version_minor": 0
      },
      "text/plain": [
       "  0%|          | 0/10000 [00:00<?, ?it/s]"
      ]
     },
     "metadata": {},
     "output_type": "display_data"
    },
    {
     "name": "stdout",
     "output_type": "stream",
     "text": [
      "training complete\n",
      "Training done, time: 529.06\n"
     ]
    }
   ],
   "source": [
    "'epoch1000左右就收敛'\n",
    "%run main.py --config_file ./Config/stocks.yaml --gpu 0 --train"
   ]
  },
  {
   "cell_type": "code",
   "execution_count": null,
   "id": "e4ba49da",
   "metadata": {},
   "outputs": [],
   "source": [
    "'Unconstrained'\n",
    "%run main.py  --config_file ./Config/stocks.yaml --gpu 0 --sample 0 --milestone {checkpoint_number}"
   ]
  },
  {
   "cell_type": "code",
   "execution_count": null,
   "id": "2ffe8d0e",
   "metadata": {},
   "outputs": [],
   "source": [
    "'补全'\n",
    "%run main.py  --config_file ./Config/stocks.yaml --gpu 0 --sample 1 --milestone {checkpoint_number} --mode infill --missing_ratio {missing_ratio}"
   ]
  },
  {
   "cell_type": "code",
   "execution_count": null,
   "id": "3c13058c",
   "metadata": {},
   "outputs": [],
   "source": [
    "'预测'\n",
    "%run main.py --name {dataset_name} --config_file {config.yaml} --gpu 0 --sample 1 --milestone {checkpoint_number} --mode predict --pred_len {pred_len}"
   ]
  },
  {
   "cell_type": "code",
   "execution_count": null,
   "id": "f2121dd2",
   "metadata": {},
   "outputs": [],
   "source": []
  }
 ],
 "metadata": {
  "kernelspec": {
   "display_name": "Python 3 (ipykernel)",
   "language": "python",
   "name": "python3"
  },
  "language_info": {
   "codemirror_mode": {
    "name": "ipython",
    "version": 3
   },
   "file_extension": ".py",
   "mimetype": "text/x-python",
   "name": "python",
   "nbconvert_exporter": "python",
   "pygments_lexer": "ipython3",
   "version": "3.8.8"
  }
 },
 "nbformat": 4,
 "nbformat_minor": 5
}
