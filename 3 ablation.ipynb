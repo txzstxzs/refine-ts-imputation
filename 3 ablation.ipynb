{
 "cells": [
  {
   "cell_type": "code",
   "execution_count": 1,
   "id": "3daa4ff6",
   "metadata": {},
   "outputs": [
    {
     "name": "stderr",
     "output_type": "stream",
     "text": [
      "2025-10-25 21:18:21 [WARNING]: ‼️ `pypots.utils.metrics` is deprecated. Please import from `pypots.nn.functional` instead.\n"
     ]
    },
    {
     "name": "stdout",
     "output_type": "stream",
     "text": [
      "\u001b[34m\n",
      "████████╗██╗███╗   ███╗███████╗    ███████╗███████╗██████╗ ██╗███████╗███████╗    █████╗ ██╗\n",
      "╚══██╔══╝██║████╗ ████║██╔════╝    ██╔════╝██╔════╝██╔══██╗██║██╔════╝██╔════╝   ██╔══██╗██║\n",
      "   ██║   ██║██╔████╔██║█████╗█████╗███████╗█████╗  ██████╔╝██║█████╗  ███████╗   ███████║██║\n",
      "   ██║   ██║██║╚██╔╝██║██╔══╝╚════╝╚════██║██╔══╝  ██╔══██╗██║██╔══╝  ╚════██║   ██╔══██║██║\n",
      "   ██║   ██║██║ ╚═╝ ██║███████╗    ███████║███████╗██║  ██║██║███████╗███████║██╗██║  ██║██║\n",
      "   ╚═╝   ╚═╝╚═╝     ╚═╝╚══════╝    ╚══════╝╚══════╝╚═╝  ╚═╝╚═╝╚══════╝╚══════╝╚═╝╚═╝  ╚═╝╚═╝\n",
      "ai4ts v0.0.3 - building AI for unified time-series analysis, https://time-series.ai \u001b[0m\n",
      "\n"
     ]
    }
   ],
   "source": [
    "import os\n",
    "import torch\n",
    "import argparse\n",
    "import numpy as np\n",
    "\n",
    "from engine.logger import Logger\n",
    "from engine.solver import Trainer\n",
    "from Data.build_dataloader import build_dataloader, build_dataloader_cond\n",
    "from Models.interpretable_diffusion.model_utils import unnormalize_to_zero_to_one\n",
    "from Utils.io_utils import load_yaml_config, seed_everything, merge_opts_to_config, instantiate_from_config\n",
    "from Utils.metric_utils import visualization\n",
    "\n",
    "import sys\n",
    "import time\n",
    "import torch.nn as nn\n",
    "import torch.nn.functional as F\n",
    "\n",
    "from pathlib import Path\n",
    "from tqdm import tqdm\n",
    "from ema_pytorch import EMA\n",
    "from torch.optim import Adam\n",
    "from torch.nn.utils import clip_grad_norm_\n",
    "from Utils.io_utils import instantiate_from_config, get_model_parameters_info\n",
    "\n",
    "\n",
    "from sklearn.manifold import TSNE\n",
    "from sklearn.decomposition import PCA\n",
    "import matplotlib.pyplot as plt\n",
    "plt.rc('font',family='Times New Roman') \n",
    "\n",
    "import umap                        \n",
    "import seaborn as sns \n",
    "\n",
    "from pypots.utils.metrics import calc_mse,calc_rmse,calc_mae\n",
    "import random"
   ]
  },
  {
   "cell_type": "code",
   "execution_count": 3,
   "id": "dc7cca43",
   "metadata": {},
   "outputs": [],
   "source": [
    "def visualization2(ori, gen):\n",
    "    \n",
    "    Number = ori.shape[0]\n",
    "    \n",
    "    max_sample = min([4000, Number])      \n",
    "    idx = np.random.permutation(Number)[ :max_sample]\n",
    "\n",
    "    ori1 = np.asarray(ori)[idx]\n",
    "    gen1 = np.asarray(gen)[idx]\n",
    "\n",
    "    ori1 = np.mean(ori1, 2) \n",
    "    gen1 = np.mean(gen1, 2) \n",
    "\n",
    "    concat_data = np.concatenate((ori1, gen1), axis=0)\n",
    "    \n",
    "    pca = PCA(2)     \n",
    "    pca_res = pca.fit_transform(concat_data)\n",
    "\n",
    "    tsne = TSNE(n_components=2, verbose=1, perplexity=40,random_state=20,n_iter=500) \n",
    "    tsne_res = tsne.fit_transform(concat_data) \n",
    "\n",
    "    umap_ = umap.UMAP(random_state=42)\n",
    "    umap_res = umap_.fit_transform(concat_data)\n",
    "    \n",
    "    \n",
    "    fig = plt.figure(figsize=(19,4))\n",
    "    plt.subplot(1,4,1)\n",
    "    \n",
    "    plt.scatter(pca_res[:2000,0],pca_res[:2000,1], s=15, c='#ff7f0e')\n",
    "    plt.scatter(pca_res[max_sample:max_sample+2000,0],pca_res[max_sample:max_sample+2000,1], s=15, c='#1f77b4')\n",
    "    plt.xlabel('(a)',fontsize=25)\n",
    "    \n",
    "    plt.subplot(1,4,2)\n",
    "    plt.scatter(tsne_res[:2000,0],tsne_res[:2000,1],  s=15,  c='#ff7f0e')\n",
    "    plt.scatter(tsne_res[max_sample:max_sample+2000,0],tsne_res[max_sample:max_sample+2000,1], s=15, c='#1f77b4')\n",
    "    plt.xlabel('(b)',fontsize=25)\n",
    "\n",
    "    plt.subplot(1,4,3)\n",
    "    plt.scatter(umap_res[:2000, 0], umap_res[:2000, 1],  cmap='Spectral', s=15,  c='#ff7f0e')\n",
    "    plt.scatter(umap_res[max_sample:max_sample+2000, 0], umap_res[max_sample:max_sample+2000, 1],  cmap='Spectral', s=15, c='#1f77b4')\n",
    "    plt.xlabel('(c)',fontsize=25)\n",
    "\n",
    "    \n",
    "    plt.subplot(1,4,4)\n",
    "    sns.distplot(ori[:,:,1], hist=False, color = '#ff7f0e' )\n",
    "    sns.distplot(gen[:,:,1], hist=False, color = '#1f77b4' )  \n",
    "    plt.xlabel('(d)',fontsize=25)\n",
    "    "
   ]
  },
  {
   "cell_type": "code",
   "execution_count": 4,
   "id": "8a88cf11",
   "metadata": {},
   "outputs": [],
   "source": [
    "def parse_args():\n",
    "    parser = argparse.ArgumentParser(description='PyTorch Training Script')\n",
    "    parser.add_argument('--name', type=str, default=None)\n",
    "\n",
    "    parser.add_argument('--config_file', type=str, default=None, \n",
    "                        help='path of config file')\n",
    "    parser.add_argument('--output', type=str, default='OUTPUT', \n",
    "                        help='directory to save the results')\n",
    "    parser.add_argument('--tensorboard', action='store_true', \n",
    "                        help='use tensorboard for logging')\n",
    "\n",
    "    # args for random\n",
    "\n",
    "    parser.add_argument('--cudnn_deterministic', action='store_true', default=False,\n",
    "                        help='set cudnn.deterministic True')\n",
    "    parser.add_argument('--seed', type=int, default=10, \n",
    "                        help='seed for initializing training.')\n",
    "    parser.add_argument('--gpu', type=int, default=None,\n",
    "                        help='GPU id to use. If given, only the specific gpu will be'\n",
    "                        ' used, and ddp will be disabled')\n",
    "    \n",
    "    # args for training\n",
    "    parser.add_argument('--train', action='store_true', default=False, help='Train or Test.')\n",
    "    parser.add_argument('--sample', type=int, default=0, \n",
    "                        choices=[0, 1], help='Condition or Uncondition.')\n",
    "    parser.add_argument('--mode', type=str, default='infill',\n",
    "                        help='Infilling or Forecasting.')\n",
    "    parser.add_argument('--milestone', type=int, default=10)\n",
    "\n",
    "    parser.add_argument('--missing_ratio', type=float, default=0., help='Ratio of Missing Values.')\n",
    "    parser.add_argument('--pred_len', type=int, default=0, help='Length of Predictions.')\n",
    "    \n",
    "    \n",
    "    # args for modify config\n",
    "    parser.add_argument('opts', help='Modify config options using the command-line',\n",
    "                        default=None, nargs=argparse.REMAINDER)  \n",
    "\n",
    "    args = parser.parse_args(args=[])\n",
    "    args.save_dir = os.path.join(args.output, f'{args.name}')\n",
    "\n",
    "    return args\n"
   ]
  },
  {
   "cell_type": "code",
   "execution_count": 5,
   "id": "f4a503d1",
   "metadata": {},
   "outputs": [
    {
     "name": "stdout",
     "output_type": "stream",
     "text": [
      "Namespace(name=None, config_file='./Config/exchange_rate.yaml', output='OUTPUT', tensorboard=False, cudnn_deterministic=False, seed=10, gpu=0, train=True, sample=0, mode='infill', milestone=10, missing_ratio=0.0, pred_len=0, opts=[], save_dir='OUTPUT\\\\None')\n"
     ]
    }
   ],
   "source": [
    "args = parse_args()\n",
    "\n",
    "# data_name = 'ETTh1'\n",
    "# data_name = 'Energy'\n",
    "# data_name = 'weather'\n",
    "data_name = 'exchange_rate'\n",
    "\n",
    "\n",
    "    \n",
    "if data_name == 'ETTh1':\n",
    "    args.config_file =  './Config/ETTh1.yaml'\n",
    "\n",
    "elif data_name == 'Energy':\n",
    "    args.config_file =  './Config/Energy.yaml'\n",
    "\n",
    "elif data_name == 'weather':\n",
    "    args.config_file =  './Config/weather.yaml'\n",
    "    \n",
    "elif data_name == 'exchange_rate':\n",
    "    args.config_file =  './Config/exchange_rate.yaml'\n",
    "    \n",
    "args.gpu =  0\n",
    "args.train = True\n",
    "print(args)"
   ]
  },
  {
   "cell_type": "code",
   "execution_count": 6,
   "id": "8b39db9f",
   "metadata": {},
   "outputs": [
    {
     "name": "stdout",
     "output_type": "stream",
     "text": [
      "Global seed set to 10\n",
      "{'model': {'target': 'Models.interpretable_diffusion.gaussian_diffusion.Diffusion_TS', 'params': {'seq_length': 24, 'feature_size': 8, 'n_layer_enc': 4, 'n_layer_dec': 3, 'd_model': 96, 'timesteps': 500, 'sampling_timesteps': 500, 'loss_type': 'l1', 'beta_schedule': 'cosine', 'n_heads': 4, 'mlp_hidden_times': 4, 'attn_pd': 0.0, 'resid_pd': 0.0, 'kernel_size': 1, 'padding_size': 0}}, 'solver': {'base_lr': 1e-05, 'max_epochs': 25000, 'results_folder': './Checkpoints_energy', 'gradient_accumulate_every': 2, 'save_cycle': 2500, 'ema': {'decay': 0.995, 'update_interval': 10}, 'scheduler': {'target': 'engine.lr_sch.ReduceLROnPlateauWithWarmup', 'params': {'factor': 0.5, 'patience': 5000, 'min_lr': 1e-05, 'threshold': 0.1, 'threshold_mode': 'rel', 'warmup_lr': 0.0008, 'warmup': 500, 'verbose': False}}}, 'dataloader': {'train_dataset': {'target': 'Utils.Data_utils.real_datasets.CustomDataset', 'params': {'name': 'energy', 'proportion': 1.0, 'data_root': './Data/datasets/energy_data.csv', 'window': 24, 'save2npy': True, 'neg_one_to_one': True, 'seed': 123, 'period': 'train'}}, 'test_dataset': {'target': 'Utils.Data_utils.real_datasets.CustomDataset', 'params': {'name': 'energy', 'proportion': 0.9, 'data_root': './Data/datasets/energy_data.csv', 'window': 24, 'save2npy': True, 'neg_one_to_one': True, 'seed': 123, 'period': 'test', 'style': 'separate', 'distribution': 'geometric'}, 'coefficient': 0.01, 'step_size': 0.05, 'sampling_steps': 250}, 'batch_size': 200, 'sample_size': 256, 'shuffle': True}}\n",
      "cosine 500\n"
     ]
    }
   ],
   "source": [
    "if args.seed is not None:\n",
    "    seed_everything(args.seed)\n",
    "\n",
    "if args.gpu is not None:\n",
    "    torch.cuda.set_device(args.gpu)\n",
    "\n",
    "config = load_yaml_config(args.config_file)\n",
    "config = merge_opts_to_config(config, args.opts)\n",
    "\n",
    "\n",
    "config['dataloader']['batch_size'] = 200\n",
    "print(config)\n",
    "\n",
    "beta_schedule = config['model']['params']['beta_schedule'] \n",
    "timesteps = config['model']['params']['timesteps'] \n",
    "print(beta_schedule, timesteps)"
   ]
  },
  {
   "cell_type": "code",
   "execution_count": 7,
   "id": "3406e18f",
   "metadata": {},
   "outputs": [
    {
     "name": "stdout",
     "output_type": "stream",
     "text": [
      "(2522, 24, 8)\n"
     ]
    }
   ],
   "source": [
    "import torch\n",
    "from torch.utils.data import Dataset\n",
    "from torch.utils.data import DataLoader\n",
    "\n",
    "\n",
    "\n",
    "if data_name == 'ETTh1':\n",
    "    load_data = np.load( './Data/datasets/ETTh1.npy')\n",
    "    \n",
    "elif data_name == 'Energy':\n",
    "    load_data = np.load( './Data/datasets/Energy.npy')\n",
    "\n",
    "    \n",
    "elif data_name == 'weather':\n",
    "    load_data = np.load( './Data/datasets/weather.npy')\n",
    "    \n",
    "elif data_name == 'exchange_rate':\n",
    "    load_data = np.load( './Data/datasets/exchange_rate.npy')\n",
    "    \n",
    "    \n",
    "np.random.shuffle(load_data)\n",
    "\n",
    "\n",
    "Numble = load_data.shape[0]\n",
    "Length = load_data.shape[1]\n",
    "Feature = load_data.shape[2]\n",
    "   \n",
    "shape = (Numble, Length, Feature)\n",
    "print(shape)"
   ]
  },
  {
   "cell_type": "code",
   "execution_count": null,
   "id": "6b0886b8",
   "metadata": {},
   "outputs": [],
   "source": []
  },
  {
   "cell_type": "code",
   "execution_count": 8,
   "id": "6152062b",
   "metadata": {},
   "outputs": [],
   "source": [
    "def default(val, d):\n",
    "    if exists(val):\n",
    "        return val\n",
    "    return d() if callable(d) else d\n",
    "\n",
    "def exists(x):\n",
    "    return x is not None\n",
    "\n",
    "from Models.interpretable_diffusion.model_utils import default, identity, extract\n",
    "from Models.interpretable_diffusion.gaussian_diffusion import linear_beta_schedule, cosine_beta_schedule, Diffusion_TS\n",
    "import torch.nn.functional as F\n"
   ]
  },
  {
   "cell_type": "code",
   "execution_count": null,
   "id": "aebe342a",
   "metadata": {
    "scrolled": true
   },
   "outputs": [],
   "source": []
  },
  {
   "cell_type": "markdown",
   "id": "f0c57ce4",
   "metadata": {},
   "source": [
    "# load shortcut"
   ]
  },
  {
   "cell_type": "code",
   "execution_count": 9,
   "id": "855ddb2c",
   "metadata": {},
   "outputs": [],
   "source": [
    "rf_model = instantiate_from_config(config['model']).cuda()\n",
    "\n",
    "device = rf_model.betas.device"
   ]
  },
  {
   "cell_type": "code",
   "execution_count": 11,
   "id": "cfa3e29a",
   "metadata": {},
   "outputs": [],
   "source": [
    "start_lr = config['solver'].get('base_lr', 1.0e-4)\n",
    "ema_decay = config['solver']['ema']['decay']\n",
    "ema_update_every = config['solver']['ema']['update_interval']\n",
    "ema = EMA(rf_model, beta=ema_decay, update_every=ema_update_every).to(device)\n",
    "\n",
    "opt = Adam(filter(lambda p: p.requires_grad, rf_model.parameters()), lr=start_lr, betas=[0.9, 0.96])\n",
    "sc_cfg = config['solver']['scheduler']\n",
    "sc_cfg['params']['optimizer'] = opt   \n",
    "sch = instantiate_from_config(sc_cfg)   \n"
   ]
  },
  {
   "cell_type": "code",
   "execution_count": 12,
   "id": "af700df2",
   "metadata": {},
   "outputs": [],
   "source": [
    "ds = 1 / torch.tensor([2 ** i for i in range(1, 8)]).to(device)\n",
    "ds_p = torch.ones((ds.shape[0],)).to(device) / ds.shape[0]\n",
    "\n",
    "d = ds[ds_p.multinomial(5, replacement=True).to(device)]\n",
    "\n",
    "t = torch.rand(size=(10, 1), device=device)\n",
    "\n",
    "def reshape_coefs(t):\n",
    "    return t.reshape((t.shape[0], 1,  1))"
   ]
  },
  {
   "cell_type": "code",
   "execution_count": 13,
   "id": "59eb7fe3",
   "metadata": {},
   "outputs": [],
   "source": [
    "padding_masks = None\n",
    "clip_x_start = False\n",
    "clip_denoised = True"
   ]
  },
  {
   "cell_type": "code",
   "execution_count": 14,
   "id": "34c88127",
   "metadata": {},
   "outputs": [
    {
     "data": {
      "text/plain": [
       "<All keys matched successfully>"
      ]
     },
     "execution_count": 14,
     "metadata": {},
     "output_type": "execute_result"
    }
   ],
   "source": [
    "rf_model = instantiate_from_config(config['model']).cuda()\n",
    "\n",
    "rf_model.load_state_dict(torch.load( \"./checkpoint/rectified_flow/exchange_rate_rf.pth\"  ))\n",
    "ema.load_state_dict(torch.load( \"./checkpoint/rectified_flow/exchange_rate_ema_rf.pth\"  ))\n",
    "\n",
    "# rf_model.load_state_dict(torch.load( \"./checkpoint/rectified_flow/weather_rf.pth\"  ))\n",
    "# ema.load_state_dict(torch.load( \"./checkpoint/rectified_flow/weather_ema_rf.pth\"  ))\n",
    "\n",
    "# rf_model.load_state_dict(torch.load( \"./checkpoint/rectified_flow/ETTh1_rf.pth\"  ))\n",
    "# ema.load_state_dict(torch.load( \"./checkpoint/rectified_flow/ETTh1_ema_rf.pth\"  ))\n",
    "\n",
    "# rf_model.load_state_dict(torch.load( \"./checkpoint/rectified_flow/Energy_rf.pth\"  ))\n",
    "# ema.load_state_dict(torch.load( \"./checkpoint/rectified_flow/Energy_ema_rf.pth\"  ))\n"
   ]
  },
  {
   "cell_type": "code",
   "execution_count": 20,
   "id": "9f80cf5d",
   "metadata": {},
   "outputs": [],
   "source": []
  },
  {
   "cell_type": "code",
   "execution_count": null,
   "id": "e3f437b5",
   "metadata": {},
   "outputs": [],
   "source": []
  },
  {
   "cell_type": "code",
   "execution_count": 19,
   "id": "34dc565d",
   "metadata": {},
   "outputs": [],
   "source": [
    "from torch.autograd import Variable\n",
    "\n",
    "def get_mask_mcar(sample, mr): \n",
    "    mask = torch.ones(sample.shape).view(1,-1) \n",
    "    index = torch.tensor(range(mask.shape[1]))  \n",
    "    perm = torch.randperm(len(index)) \n",
    "    index = perm[ 0: round( mr*len(index) ) ]\n",
    "    mask[0][index]=0\n",
    "    mask = mask.view(sample.shape)\n",
    "    return mask\n",
    "\n",
    "\n",
    "def get_mask_mnr(sample, k): \n",
    "    mask = torch.ones(sample.shape)\n",
    "    length_index = torch.tensor(range(mask.shape[0]))\n",
    "    list_of_segments_index = torch.split(length_index, k)\n",
    "    for channel in range(mask.shape[1]):\n",
    "        s_nan = random.choice(list_of_segments_index)\n",
    "        mask[:, channel][s_nan[0]:s_nan[-1] + 1] = 0\n",
    "\n",
    "    return mask\n"
   ]
  },
  {
   "cell_type": "markdown",
   "id": "75af02d1",
   "metadata": {},
   "source": [
    "# initialize code randomly"
   ]
  },
  {
   "cell_type": "code",
   "execution_count": 20,
   "id": "432dc193",
   "metadata": {},
   "outputs": [
    {
     "name": "stdout",
     "output_type": "stream",
     "text": [
      "torch.Size([1000, 24, 8])\n"
     ]
    }
   ],
   "source": [
    "target = torch.tensor( load_data[0:1000] ).float().cuda()\n",
    "shape = target.shape\n",
    "print(shape)\n",
    "\n",
    "b, c, n, = target.shape\n",
    "\n",
    "code = torch.randn(shape, device=device)\n",
    "initial_data = Variable( code, requires_grad=True)\n",
    "optimizer = torch.optim.Adam(  [initial_data], lr=0.01)  \n",
    "padding_masks = torch.ones(b, c, dtype=bool, device=device)"
   ]
  },
  {
   "cell_type": "markdown",
   "id": "bc04f43d",
   "metadata": {},
   "source": [
    "# choose missing rate, mechanism "
   ]
  },
  {
   "cell_type": "code",
   "execution_count": 21,
   "id": "dd38e489",
   "metadata": {},
   "outputs": [
    {
     "name": "stdout",
     "output_type": "stream",
     "text": [
      "torch.Size([0, 24, 8])\n",
      "torch.Size([1000, 24, 8])\n"
     ]
    }
   ],
   "source": [
    "mr = 0.3\n",
    "# mechanism = 'mcar'  \n",
    "mechanism = 'mnr'\n",
    "missing_length = int( mr * Length )\n",
    "\n",
    "\n",
    "Mask = torch.empty([0, c, n])    \n",
    "print( Mask.shape)\n",
    "\n",
    "for i in range(target.shape[0]):\n",
    "    if mechanism == 'mcar':\n",
    "        one_mask = get_mask_mcar( target[0], mr)  \n",
    "    else:\n",
    "        one_mask = get_mask_mnr( target[0], missing_length) \n",
    "\n",
    "    one_mask = one_mask.unsqueeze(0)   \n",
    "    Mask = torch.row_stack([Mask, one_mask])\n",
    "\n",
    "Mask = Mask.float().cuda()\n",
    "print( Mask.shape )"
   ]
  },
  {
   "cell_type": "markdown",
   "id": "622d5fb5",
   "metadata": {},
   "source": [
    "# optimize random code "
   ]
  },
  {
   "cell_type": "code",
   "execution_count": 22,
   "id": "513f5b53",
   "metadata": {},
   "outputs": [
    {
     "name": "stderr",
     "output_type": "stream",
     "text": [
      "\n",
      "  5%|████▏                                                                            | 26/500 [01:22<25:07,  3.18s/it]\u001b[A\n",
      "\n",
      "  0%|▎                                                                                 | 1/300 [00:02<10:20,  2.08s/it]\u001b[A\n",
      "  1%|▌                                                                                 | 2/300 [00:03<09:21,  1.88s/it]\u001b[A\n",
      "  1%|▊                                                                                 | 3/300 [00:05<09:03,  1.83s/it]\u001b[A\n",
      "  1%|█                                                                                 | 4/300 [00:07<08:57,  1.82s/it]\u001b[A\n",
      "  2%|█▎                                                                                | 5/300 [00:09<08:52,  1.80s/it]\u001b[A\n",
      "  2%|█▋                                                                                | 6/300 [00:10<08:52,  1.81s/it]\u001b[A\n",
      "  2%|█▉                                                                                | 7/300 [00:12<08:48,  1.80s/it]\u001b[A\n",
      "  3%|██▏                                                                               | 8/300 [00:14<08:48,  1.81s/it]\u001b[A\n",
      "  3%|██▍                                                                               | 9/300 [00:16<08:46,  1.81s/it]\u001b[A\n",
      "  3%|██▋                                                                              | 10/300 [00:18<08:40,  1.80s/it]\u001b[A\n",
      "  4%|██▉                                                                              | 11/300 [00:19<08:35,  1.78s/it]\u001b[A\n",
      "  4%|███▏                                                                             | 12/300 [00:21<08:37,  1.80s/it]\u001b[A\n",
      "  4%|███▌                                                                             | 13/300 [00:23<08:30,  1.78s/it]\u001b[A\n",
      "  5%|███▊                                                                             | 14/300 [00:25<08:31,  1.79s/it]\u001b[A\n",
      "  5%|████                                                                             | 15/300 [00:27<08:27,  1.78s/it]\u001b[A\n",
      "  5%|████▎                                                                            | 16/300 [00:28<08:24,  1.78s/it]\u001b[A\n",
      "  6%|████▌                                                                            | 17/300 [00:30<08:24,  1.78s/it]\u001b[A\n",
      "  6%|████▊                                                                            | 18/300 [00:32<08:24,  1.79s/it]\u001b[A\n",
      "  6%|█████▏                                                                           | 19/300 [00:34<08:22,  1.79s/it]\u001b[A\n",
      "  7%|█████▍                                                                           | 20/300 [00:36<08:19,  1.79s/it]\u001b[A\n",
      "  7%|█████▋                                                                           | 21/300 [00:37<08:15,  1.78s/it]\u001b[A\n",
      "  7%|█████▉                                                                           | 22/300 [00:39<08:17,  1.79s/it]\u001b[A\n",
      "  8%|██████▏                                                                          | 23/300 [00:41<08:19,  1.80s/it]\u001b[A\n",
      "  8%|██████▍                                                                          | 24/300 [00:43<08:17,  1.80s/it]\u001b[A\n",
      "  8%|██████▊                                                                          | 25/300 [00:44<08:13,  1.79s/it]\u001b[A\n",
      "  9%|███████                                                                          | 26/300 [00:46<08:14,  1.81s/it]\u001b[A\n",
      "  9%|███████▎                                                                         | 27/300 [00:48<08:13,  1.81s/it]\u001b[A\n",
      "  9%|███████▌                                                                         | 28/300 [00:50<08:05,  1.79s/it]\u001b[A\n",
      " 10%|███████▊                                                                         | 29/300 [00:52<08:05,  1.79s/it]\u001b[A\n",
      " 10%|████████                                                                         | 30/300 [00:54<08:10,  1.82s/it]\u001b[A\n",
      " 10%|████████▎                                                                        | 31/300 [00:55<08:07,  1.81s/it]\u001b[A\n",
      " 11%|████████▋                                                                        | 32/300 [00:57<08:03,  1.80s/it]\u001b[A\n",
      " 11%|████████▉                                                                        | 33/300 [00:59<07:58,  1.79s/it]\u001b[A\n",
      " 11%|█████████▏                                                                       | 34/300 [01:01<08:00,  1.81s/it]\u001b[A\n",
      " 12%|█████████▍                                                                       | 35/300 [01:03<08:01,  1.82s/it]\u001b[A\n",
      " 12%|█████████▋                                                                       | 36/300 [01:04<07:58,  1.81s/it]\u001b[A\n",
      " 12%|█████████▉                                                                       | 37/300 [01:06<07:52,  1.80s/it]\u001b[A\n",
      " 13%|██████████▎                                                                      | 38/300 [01:08<07:55,  1.82s/it]\u001b[A\n",
      " 13%|██████████▌                                                                      | 39/300 [01:10<07:56,  1.82s/it]\u001b[A\n",
      " 13%|██████████▊                                                                      | 40/300 [01:12<07:51,  1.81s/it]\u001b[A\n",
      " 14%|███████████                                                                      | 41/300 [01:13<07:51,  1.82s/it]\u001b[A\n",
      " 14%|███████████▎                                                                     | 42/300 [01:15<07:47,  1.81s/it]\u001b[A\n",
      " 14%|███████████▌                                                                     | 43/300 [01:17<07:50,  1.83s/it]\u001b[A\n",
      " 15%|███████████▉                                                                     | 44/300 [01:19<07:49,  1.84s/it]\u001b[A\n",
      " 15%|████████████▏                                                                    | 45/300 [01:21<07:48,  1.84s/it]\u001b[A\n",
      " 15%|████████████▍                                                                    | 46/300 [01:23<07:37,  1.80s/it]\u001b[A\n",
      " 16%|████████████▋                                                                    | 47/300 [01:24<07:27,  1.77s/it]\u001b[A\n",
      " 16%|████████████▉                                                                    | 48/300 [01:26<07:21,  1.75s/it]\u001b[A\n",
      " 16%|█████████████▏                                                                   | 49/300 [01:28<07:14,  1.73s/it]\u001b[A\n",
      " 17%|█████████████▌                                                                   | 50/300 [01:29<07:16,  1.75s/it]\u001b[A\n",
      " 17%|█████████████▊                                                                   | 51/300 [01:31<07:07,  1.72s/it]\u001b[A\n",
      " 17%|██████████████                                                                   | 52/300 [01:33<07:06,  1.72s/it]\u001b[A\n",
      " 18%|██████████████▎                                                                  | 53/300 [01:35<07:06,  1.73s/it]\u001b[A\n",
      " 18%|██████████████▌                                                                  | 54/300 [01:36<07:00,  1.71s/it]\u001b[A\n",
      " 18%|██████████████▊                                                                  | 55/300 [01:38<06:58,  1.71s/it]\u001b[A\n",
      " 19%|███████████████                                                                  | 56/300 [01:40<07:00,  1.72s/it]\u001b[A\n",
      " 19%|███████████████▍                                                                 | 57/300 [01:41<07:04,  1.75s/it]\u001b[A\n",
      " 19%|███████████████▋                                                                 | 58/300 [01:43<07:07,  1.76s/it]\u001b[A\n",
      " 20%|███████████████▉                                                                 | 59/300 [01:45<06:57,  1.73s/it]\u001b[A\n",
      " 20%|████████████████▏                                                                | 60/300 [01:47<06:55,  1.73s/it]\u001b[A\n",
      " 20%|████████████████▍                                                                | 61/300 [01:49<07:10,  1.80s/it]\u001b[A\n",
      " 21%|████████████████▋                                                                | 62/300 [01:50<07:05,  1.79s/it]\u001b[A\n",
      " 21%|█████████████████                                                                | 63/300 [01:52<07:00,  1.78s/it]\u001b[A\n",
      " 21%|█████████████████▎                                                               | 64/300 [01:54<06:56,  1.76s/it]\u001b[A\n",
      " 22%|█████████████████▌                                                               | 65/300 [01:56<06:52,  1.76s/it]\u001b[A\n"
     ]
    },
    {
     "name": "stderr",
     "output_type": "stream",
     "text": [
      " 22%|█████████████████▊                                                               | 66/300 [01:57<06:49,  1.75s/it]\u001b[A\n",
      " 22%|██████████████████                                                               | 67/300 [01:59<06:43,  1.73s/it]\u001b[A\n",
      " 23%|██████████████████▎                                                              | 68/300 [02:01<06:40,  1.73s/it]\u001b[A\n",
      " 23%|██████████████████▋                                                              | 69/300 [02:03<06:41,  1.74s/it]\u001b[A\n",
      " 23%|██████████████████▉                                                              | 70/300 [02:04<06:37,  1.73s/it]\u001b[A\n",
      " 24%|███████████████████▏                                                             | 71/300 [02:06<06:34,  1.72s/it]\u001b[A\n",
      " 24%|███████████████████▍                                                             | 72/300 [02:08<06:30,  1.71s/it]\u001b[A\n",
      " 24%|███████████████████▋                                                             | 73/300 [02:09<06:27,  1.71s/it]\u001b[A\n",
      " 25%|███████████████████▉                                                             | 74/300 [02:11<06:26,  1.71s/it]\u001b[A\n",
      " 25%|████████████████████▎                                                            | 75/300 [02:13<06:29,  1.73s/it]\u001b[A\n",
      " 25%|████████████████████▌                                                            | 76/300 [02:15<06:30,  1.74s/it]\u001b[A\n",
      " 26%|████████████████████▊                                                            | 77/300 [02:16<06:30,  1.75s/it]\u001b[A\n",
      " 26%|█████████████████████                                                            | 78/300 [02:18<06:26,  1.74s/it]\u001b[A\n",
      " 26%|█████████████████████▎                                                           | 79/300 [02:20<06:29,  1.76s/it]\u001b[A\n",
      " 27%|█████████████████████▌                                                           | 80/300 [02:22<06:24,  1.75s/it]\u001b[A\n",
      " 27%|█████████████████████▊                                                           | 81/300 [02:23<06:23,  1.75s/it]\u001b[A\n",
      " 27%|██████████████████████▏                                                          | 82/300 [02:25<06:23,  1.76s/it]\u001b[A\n",
      " 28%|██████████████████████▍                                                          | 83/300 [02:27<06:26,  1.78s/it]\u001b[A\n",
      " 28%|██████████████████████▋                                                          | 84/300 [02:29<06:23,  1.78s/it]\u001b[A\n",
      " 28%|██████████████████████▉                                                          | 85/300 [02:30<06:15,  1.75s/it]\u001b[A\n",
      " 29%|███████████████████████▏                                                         | 86/300 [02:32<06:10,  1.73s/it]\u001b[A\n",
      " 29%|███████████████████████▍                                                         | 87/300 [02:34<06:11,  1.75s/it]\u001b[A\n",
      " 29%|███████████████████████▊                                                         | 88/300 [02:36<06:07,  1.73s/it]\u001b[A\n",
      " 30%|████████████████████████                                                         | 89/300 [02:37<06:08,  1.75s/it]\u001b[A\n",
      " 30%|████████████████████████▎                                                        | 90/300 [02:39<06:06,  1.74s/it]\u001b[A\n",
      " 30%|████████████████████████▌                                                        | 91/300 [02:41<05:59,  1.72s/it]\u001b[A\n",
      " 31%|████████████████████████▊                                                        | 92/300 [02:42<05:54,  1.71s/it]\u001b[A\n",
      " 31%|█████████████████████████                                                        | 93/300 [02:44<05:51,  1.70s/it]\u001b[A\n",
      " 31%|█████████████████████████▍                                                       | 94/300 [02:46<05:50,  1.70s/it]\u001b[A\n",
      " 32%|█████████████████████████▋                                                       | 95/300 [02:48<05:51,  1.71s/it]\u001b[A\n",
      " 32%|█████████████████████████▉                                                       | 96/300 [02:49<05:49,  1.71s/it]\u001b[A\n",
      " 32%|██████████████████████████▏                                                      | 97/300 [02:51<05:43,  1.69s/it]\u001b[A\n",
      " 33%|██████████████████████████▍                                                      | 98/300 [02:53<05:42,  1.69s/it]\u001b[A\n",
      " 33%|██████████████████████████▋                                                      | 99/300 [02:54<05:46,  1.72s/it]\u001b[A\n",
      " 33%|██████████████████████████▋                                                     | 100/300 [02:56<05:44,  1.72s/it]\u001b[A\n",
      " 34%|██████████████████████████▉                                                     | 101/300 [02:58<05:40,  1.71s/it]\u001b[A\n",
      " 34%|███████████████████████████▏                                                    | 102/300 [03:00<05:41,  1.72s/it]\u001b[A\n",
      " 34%|███████████████████████████▍                                                    | 103/300 [03:01<05:40,  1.73s/it]\u001b[A\n",
      " 35%|███████████████████████████▋                                                    | 104/300 [03:03<05:38,  1.73s/it]\u001b[A\n",
      " 35%|████████████████████████████                                                    | 105/300 [03:05<05:38,  1.73s/it]\u001b[A\n",
      " 35%|████████████████████████████▎                                                   | 106/300 [03:07<05:36,  1.73s/it]\u001b[A\n",
      " 36%|████████████████████████████▌                                                   | 107/300 [03:08<05:33,  1.73s/it]\u001b[A\n",
      " 36%|████████████████████████████▊                                                   | 108/300 [03:10<05:32,  1.73s/it]\u001b[A\n",
      " 36%|█████████████████████████████                                                   | 109/300 [03:12<05:30,  1.73s/it]\u001b[A\n",
      " 37%|█████████████████████████████▎                                                  | 110/300 [03:13<05:28,  1.73s/it]\u001b[A\n",
      " 37%|█████████████████████████████▌                                                  | 111/300 [03:15<05:26,  1.73s/it]\u001b[A\n",
      " 37%|█████████████████████████████▊                                                  | 112/300 [03:17<05:24,  1.73s/it]\u001b[A\n",
      " 38%|██████████████████████████████▏                                                 | 113/300 [03:19<05:22,  1.73s/it]\u001b[A\n",
      " 38%|██████████████████████████████▍                                                 | 114/300 [03:20<05:20,  1.72s/it]\u001b[A\n",
      " 38%|██████████████████████████████▋                                                 | 115/300 [03:22<05:19,  1.73s/it]\u001b[A\n",
      " 39%|██████████████████████████████▉                                                 | 116/300 [03:24<05:17,  1.73s/it]\u001b[A\n",
      " 39%|███████████████████████████████▏                                                | 117/300 [03:25<05:12,  1.71s/it]\u001b[A\n",
      " 39%|███████████████████████████████▍                                                | 118/300 [03:27<05:09,  1.70s/it]\u001b[A\n",
      " 40%|███████████████████████████████▋                                                | 119/300 [03:29<05:10,  1.71s/it]\u001b[A\n",
      " 40%|████████████████████████████████                                                | 120/300 [03:31<05:06,  1.70s/it]\u001b[A\n",
      " 40%|████████████████████████████████▎                                               | 121/300 [03:32<05:07,  1.72s/it]\u001b[A\n",
      " 41%|████████████████████████████████▌                                               | 122/300 [03:34<05:05,  1.72s/it]\u001b[A\n",
      " 41%|████████████████████████████████▊                                               | 123/300 [03:36<05:05,  1.72s/it]\u001b[A\n",
      " 41%|█████████████████████████████████                                               | 124/300 [03:37<05:00,  1.71s/it]\u001b[A\n",
      " 42%|█████████████████████████████████▎                                              | 125/300 [03:39<05:00,  1.72s/it]\u001b[A\n",
      " 42%|█████████████████████████████████▌                                              | 126/300 [03:41<04:57,  1.71s/it]\u001b[A\n",
      " 42%|█████████████████████████████████▊                                              | 127/300 [03:43<04:56,  1.71s/it]\u001b[A\n",
      " 43%|██████████████████████████████████▏                                             | 128/300 [03:44<04:53,  1.70s/it]\u001b[A\n",
      " 43%|██████████████████████████████████▍                                             | 129/300 [03:46<04:52,  1.71s/it]\u001b[A\n",
      " 43%|██████████████████████████████████▋                                             | 130/300 [03:48<04:53,  1.73s/it]\u001b[A\n",
      " 44%|██████████████████████████████████▉                                             | 131/300 [03:50<04:54,  1.75s/it]\u001b[A\n"
     ]
    },
    {
     "name": "stderr",
     "output_type": "stream",
     "text": [
      " 44%|███████████████████████████████████▏                                            | 132/300 [03:51<04:54,  1.75s/it]\u001b[A\n",
      " 44%|███████████████████████████████████▍                                            | 133/300 [03:53<04:55,  1.77s/it]\u001b[A\n",
      " 45%|███████████████████████████████████▋                                            | 134/300 [03:55<04:58,  1.80s/it]\u001b[A\n",
      " 45%|████████████████████████████████████                                            | 135/300 [03:57<04:57,  1.80s/it]\u001b[A\n",
      " 45%|████████████████████████████████████▎                                           | 136/300 [03:59<04:51,  1.78s/it]\u001b[A\n",
      " 46%|████████████████████████████████████▌                                           | 137/300 [04:00<04:50,  1.78s/it]\u001b[A\n",
      " 46%|████████████████████████████████████▊                                           | 138/300 [04:02<04:47,  1.78s/it]\u001b[A\n",
      " 46%|█████████████████████████████████████                                           | 139/300 [04:04<04:44,  1.77s/it]\u001b[A\n",
      " 47%|█████████████████████████████████████▎                                          | 140/300 [04:06<04:40,  1.75s/it]\u001b[A\n",
      " 47%|█████████████████████████████████████▌                                          | 141/300 [04:07<04:38,  1.75s/it]\u001b[A\n",
      " 47%|█████████████████████████████████████▊                                          | 142/300 [04:09<04:33,  1.73s/it]\u001b[A\n",
      " 48%|██████████████████████████████████████▏                                         | 143/300 [04:11<04:31,  1.73s/it]\u001b[A\n",
      " 48%|██████████████████████████████████████▍                                         | 144/300 [04:13<04:33,  1.75s/it]\u001b[A\n",
      " 48%|██████████████████████████████████████▋                                         | 145/300 [04:14<04:31,  1.75s/it]\u001b[A\n",
      " 49%|██████████████████████████████████████▉                                         | 146/300 [04:16<04:31,  1.76s/it]\u001b[A\n",
      " 49%|███████████████████████████████████████▏                                        | 147/300 [04:18<04:34,  1.79s/it]\u001b[A\n",
      " 49%|███████████████████████████████████████▍                                        | 148/300 [04:20<04:32,  1.79s/it]\u001b[A\n",
      " 50%|███████████████████████████████████████▋                                        | 149/300 [04:22<04:31,  1.80s/it]\u001b[A\n",
      " 50%|████████████████████████████████████████                                        | 150/300 [04:23<04:32,  1.82s/it]\u001b[A\n",
      " 50%|████████████████████████████████████████▎                                       | 151/300 [04:25<04:33,  1.84s/it]\u001b[A\n",
      " 51%|████████████████████████████████████████▌                                       | 152/300 [04:27<04:29,  1.82s/it]\u001b[A\n",
      " 51%|████████████████████████████████████████▊                                       | 153/300 [04:29<04:27,  1.82s/it]\u001b[A\n",
      " 51%|█████████████████████████████████████████                                       | 154/300 [04:31<04:23,  1.80s/it]\u001b[A\n",
      " 52%|█████████████████████████████████████████▎                                      | 155/300 [04:32<04:18,  1.79s/it]\u001b[A\n",
      " 52%|█████████████████████████████████████████▌                                      | 156/300 [04:34<04:14,  1.77s/it]\u001b[A\n",
      " 52%|█████████████████████████████████████████▊                                      | 157/300 [04:36<04:13,  1.77s/it]\u001b[A\n",
      " 53%|██████████████████████████████████████████▏                                     | 158/300 [04:38<04:16,  1.81s/it]\u001b[A\n",
      " 53%|██████████████████████████████████████████▍                                     | 159/300 [04:40<04:15,  1.82s/it]\u001b[A\n",
      " 53%|██████████████████████████████████████████▋                                     | 160/300 [04:41<04:14,  1.82s/it]\u001b[A\n",
      " 54%|██████████████████████████████████████████▉                                     | 161/300 [04:43<04:13,  1.82s/it]\u001b[A\n",
      " 54%|███████████████████████████████████████████▏                                    | 162/300 [04:45<04:13,  1.84s/it]\u001b[A\n",
      " 54%|███████████████████████████████████████████▍                                    | 163/300 [04:47<04:11,  1.83s/it]\u001b[A\n",
      " 55%|███████████████████████████████████████████▋                                    | 164/300 [04:49<04:09,  1.83s/it]\u001b[A\n",
      " 55%|████████████████████████████████████████████                                    | 165/300 [04:51<04:06,  1.82s/it]\u001b[A\n",
      " 55%|████████████████████████████████████████████▎                                   | 166/300 [04:52<04:05,  1.83s/it]\u001b[A\n",
      " 56%|████████████████████████████████████████████▌                                   | 167/300 [04:54<04:03,  1.83s/it]\u001b[A\n",
      " 56%|████████████████████████████████████████████▊                                   | 168/300 [04:56<04:01,  1.83s/it]\u001b[A\n",
      " 56%|█████████████████████████████████████████████                                   | 169/300 [04:58<03:55,  1.80s/it]\u001b[A\n",
      " 57%|█████████████████████████████████████████████▎                                  | 170/300 [05:00<03:49,  1.77s/it]\u001b[A\n",
      " 57%|█████████████████████████████████████████████▌                                  | 171/300 [05:01<03:46,  1.76s/it]\u001b[A\n",
      " 57%|█████████████████████████████████████████████▊                                  | 172/300 [05:03<03:45,  1.76s/it]\u001b[A\n",
      " 58%|██████████████████████████████████████████████▏                                 | 173/300 [05:05<03:42,  1.76s/it]\u001b[A\n",
      " 58%|██████████████████████████████████████████████▍                                 | 174/300 [05:07<03:42,  1.76s/it]\u001b[A\n",
      " 58%|██████████████████████████████████████████████▋                                 | 175/300 [05:08<03:40,  1.76s/it]\u001b[A\n",
      " 59%|██████████████████████████████████████████████▉                                 | 176/300 [05:10<03:37,  1.75s/it]\u001b[A\n",
      " 59%|███████████████████████████████████████████████▏                                | 177/300 [05:12<03:38,  1.77s/it]\u001b[A\n",
      " 59%|███████████████████████████████████████████████▍                                | 178/300 [05:14<03:34,  1.76s/it]\u001b[A\n",
      " 60%|███████████████████████████████████████████████▋                                | 179/300 [05:15<03:32,  1.76s/it]\u001b[A\n",
      " 60%|████████████████████████████████████████████████                                | 180/300 [05:17<03:28,  1.74s/it]\u001b[A\n",
      " 60%|████████████████████████████████████████████████▎                               | 181/300 [05:19<03:31,  1.78s/it]\u001b[A\n",
      " 61%|████████████████████████████████████████████████▌                               | 182/300 [05:21<03:28,  1.77s/it]\u001b[A\n",
      " 61%|████████████████████████████████████████████████▊                               | 183/300 [05:22<03:27,  1.77s/it]\u001b[A\n",
      " 61%|█████████████████████████████████████████████████                               | 184/300 [05:24<03:24,  1.77s/it]\u001b[A\n",
      " 62%|█████████████████████████████████████████████████▎                              | 185/300 [05:26<03:20,  1.74s/it]\u001b[A\n",
      " 62%|█████████████████████████████████████████████████▌                              | 186/300 [05:28<03:17,  1.73s/it]\u001b[A\n",
      " 62%|█████████████████████████████████████████████████▊                              | 187/300 [05:29<03:16,  1.74s/it]\u001b[A\n",
      " 63%|██████████████████████████████████████████████████▏                             | 188/300 [05:31<03:14,  1.74s/it]\u001b[A\n",
      " 63%|██████████████████████████████████████████████████▍                             | 189/300 [05:33<03:10,  1.72s/it]\u001b[A\n",
      " 63%|██████████████████████████████████████████████████▋                             | 190/300 [05:34<03:07,  1.71s/it]\u001b[A\n",
      " 64%|██████████████████████████████████████████████████▉                             | 191/300 [05:36<03:05,  1.70s/it]\u001b[A\n",
      " 64%|███████████████████████████████████████████████████▏                            | 192/300 [05:38<03:03,  1.70s/it]\u001b[A\n",
      " 64%|███████████████████████████████████████████████████▍                            | 193/300 [05:40<03:02,  1.70s/it]\u001b[A\n",
      " 65%|███████████████████████████████████████████████████▋                            | 194/300 [05:41<03:01,  1.72s/it]\u001b[A\n",
      " 65%|████████████████████████████████████████████████████                            | 195/300 [05:43<03:01,  1.73s/it]\u001b[A\n",
      " 65%|████████████████████████████████████████████████████▎                           | 196/300 [05:45<02:58,  1.72s/it]\u001b[A\n",
      " 66%|████████████████████████████████████████████████████▌                           | 197/300 [05:46<02:56,  1.71s/it]\u001b[A\n"
     ]
    },
    {
     "name": "stderr",
     "output_type": "stream",
     "text": [
      " 66%|████████████████████████████████████████████████████▊                           | 198/300 [05:48<02:53,  1.70s/it]\u001b[A\n",
      " 66%|█████████████████████████████████████████████████████                           | 199/300 [05:50<02:50,  1.68s/it]\u001b[A\n",
      " 67%|█████████████████████████████████████████████████████▎                          | 200/300 [05:51<02:49,  1.69s/it]\u001b[A\n",
      " 67%|█████████████████████████████████████████████████████▌                          | 201/300 [05:53<02:48,  1.70s/it]\u001b[A\n",
      " 67%|█████████████████████████████████████████████████████▊                          | 202/300 [05:55<02:47,  1.71s/it]\u001b[A\n",
      " 68%|██████████████████████████████████████████████████████▏                         | 203/300 [05:57<02:45,  1.71s/it]\u001b[A\n",
      " 68%|██████████████████████████████████████████████████████▍                         | 204/300 [05:58<02:48,  1.76s/it]\u001b[A\n",
      " 68%|██████████████████████████████████████████████████████▋                         | 205/300 [06:00<02:47,  1.76s/it]\u001b[A\n",
      " 69%|██████████████████████████████████████████████████████▉                         | 206/300 [06:02<02:43,  1.74s/it]\u001b[A\n",
      " 69%|███████████████████████████████████████████████████████▏                        | 207/300 [06:04<02:41,  1.74s/it]\u001b[A\n",
      " 69%|███████████████████████████████████████████████████████▍                        | 208/300 [06:05<02:38,  1.73s/it]\u001b[A\n",
      " 70%|███████████████████████████████████████████████████████▋                        | 209/300 [06:07<02:38,  1.74s/it]\u001b[A\n",
      " 70%|████████████████████████████████████████████████████████                        | 210/300 [06:09<02:42,  1.80s/it]\u001b[A\n",
      " 70%|████████████████████████████████████████████████████████▎                       | 211/300 [06:12<03:07,  2.11s/it]\u001b[A\n",
      " 71%|████████████████████████████████████████████████████████▌                       | 212/300 [06:15<03:22,  2.30s/it]\u001b[A\n",
      " 71%|████████████████████████████████████████████████████████▊                       | 213/300 [06:17<03:30,  2.42s/it]\u001b[A\n",
      " 71%|█████████████████████████████████████████████████████████                       | 214/300 [06:20<03:21,  2.35s/it]\u001b[A\n",
      " 72%|█████████████████████████████████████████████████████████▎                      | 215/300 [06:21<03:03,  2.16s/it]\u001b[A\n",
      " 72%|█████████████████████████████████████████████████████████▌                      | 216/300 [06:23<02:52,  2.05s/it]\u001b[A\n",
      " 72%|█████████████████████████████████████████████████████████▊                      | 217/300 [06:25<02:42,  1.95s/it]\u001b[A\n",
      " 73%|██████████████████████████████████████████████████████████▏                     | 218/300 [06:26<02:34,  1.89s/it]\u001b[A\n",
      " 73%|██████████████████████████████████████████████████████████▍                     | 219/300 [06:28<02:32,  1.88s/it]\u001b[A\n",
      " 73%|██████████████████████████████████████████████████████████▋                     | 220/300 [06:30<02:36,  1.96s/it]\u001b[A\n",
      " 74%|██████████████████████████████████████████████████████████▉                     | 221/300 [06:33<02:38,  2.01s/it]\u001b[A\n",
      " 74%|███████████████████████████████████████████████████████████▏                    | 222/300 [06:35<02:39,  2.05s/it]\u001b[A\n",
      " 74%|███████████████████████████████████████████████████████████▍                    | 223/300 [06:37<02:38,  2.06s/it]\u001b[A\n",
      " 75%|███████████████████████████████████████████████████████████▋                    | 224/300 [06:39<02:38,  2.08s/it]\u001b[A\n",
      " 75%|████████████████████████████████████████████████████████████                    | 225/300 [06:41<02:37,  2.09s/it]\u001b[A\n",
      " 75%|████████████████████████████████████████████████████████████▎                   | 226/300 [06:43<02:35,  2.10s/it]\u001b[A\n",
      " 76%|████████████████████████████████████████████████████████████▌                   | 227/300 [06:45<02:29,  2.05s/it]\u001b[A\n",
      " 76%|████████████████████████████████████████████████████████████▊                   | 228/300 [06:47<02:22,  1.98s/it]\u001b[A\n",
      " 76%|█████████████████████████████████████████████████████████████                   | 229/300 [06:49<02:15,  1.91s/it]\u001b[A\n",
      " 77%|█████████████████████████████████████████████████████████████▎                  | 230/300 [06:50<02:09,  1.85s/it]\u001b[A\n",
      " 77%|█████████████████████████████████████████████████████████████▌                  | 231/300 [06:52<02:05,  1.82s/it]\u001b[A\n",
      " 77%|█████████████████████████████████████████████████████████████▊                  | 232/300 [06:54<02:07,  1.87s/it]\u001b[A\n",
      " 78%|██████████████████████████████████████████████████████████████▏                 | 233/300 [06:56<02:09,  1.93s/it]\u001b[A\n",
      " 78%|██████████████████████████████████████████████████████████████▍                 | 234/300 [06:58<02:10,  1.98s/it]\u001b[A\n",
      " 78%|██████████████████████████████████████████████████████████████▋                 | 235/300 [07:00<02:10,  2.01s/it]\u001b[A\n",
      " 79%|██████████████████████████████████████████████████████████████▉                 | 236/300 [07:03<02:11,  2.05s/it]\u001b[A\n",
      " 79%|███████████████████████████████████████████████████████████████▏                | 237/300 [07:05<02:09,  2.06s/it]\u001b[A\n",
      " 79%|███████████████████████████████████████████████████████████████▍                | 238/300 [07:07<02:08,  2.07s/it]\u001b[A\n",
      " 80%|███████████████████████████████████████████████████████████████▋                | 239/300 [07:09<02:06,  2.07s/it]\u001b[A\n",
      " 80%|████████████████████████████████████████████████████████████████                | 240/300 [07:11<02:05,  2.09s/it]\u001b[A\n",
      " 80%|████████████████████████████████████████████████████████████████▎               | 241/300 [07:13<02:02,  2.08s/it]\u001b[A\n",
      " 81%|████████████████████████████████████████████████████████████████▌               | 242/300 [07:15<02:00,  2.07s/it]\u001b[A\n",
      " 81%|████████████████████████████████████████████████████████████████▊               | 243/300 [07:17<01:58,  2.07s/it]\u001b[A\n",
      " 81%|█████████████████████████████████████████████████████████████████               | 244/300 [07:19<01:56,  2.08s/it]\u001b[A\n",
      " 82%|█████████████████████████████████████████████████████████████████▎              | 245/300 [07:21<01:54,  2.09s/it]\u001b[A\n",
      " 82%|█████████████████████████████████████████████████████████████████▌              | 246/300 [07:23<01:51,  2.07s/it]\u001b[A\n",
      " 82%|█████████████████████████████████████████████████████████████████▊              | 247/300 [07:25<01:49,  2.07s/it]\u001b[A\n",
      " 83%|██████████████████████████████████████████████████████████████████▏             | 248/300 [07:27<01:47,  2.06s/it]\u001b[A\n",
      " 83%|██████████████████████████████████████████████████████████████████▍             | 249/300 [07:30<01:45,  2.07s/it]\u001b[A\n",
      " 83%|██████████████████████████████████████████████████████████████████▋             | 250/300 [07:32<01:43,  2.07s/it]\u001b[A\n",
      " 84%|██████████████████████████████████████████████████████████████████▉             | 251/300 [07:34<01:42,  2.10s/it]\u001b[A\n",
      " 84%|███████████████████████████████████████████████████████████████████▏            | 252/300 [07:36<01:40,  2.10s/it]\u001b[A\n",
      " 84%|███████████████████████████████████████████████████████████████████▍            | 253/300 [07:38<01:33,  1.99s/it]\u001b[A\n",
      " 85%|███████████████████████████████████████████████████████████████████▋            | 254/300 [07:39<01:26,  1.88s/it]\u001b[A\n",
      " 85%|████████████████████████████████████████████████████████████████████            | 255/300 [07:41<01:24,  1.87s/it]\u001b[A\n",
      " 85%|████████████████████████████████████████████████████████████████████▎           | 256/300 [07:43<01:20,  1.82s/it]\u001b[A\n",
      " 86%|████████████████████████████████████████████████████████████████████▌           | 257/300 [07:45<01:17,  1.80s/it]\u001b[A\n",
      " 86%|████████████████████████████████████████████████████████████████████▊           | 258/300 [07:46<01:14,  1.78s/it]\u001b[A\n",
      " 86%|█████████████████████████████████████████████████████████████████████           | 259/300 [07:48<01:12,  1.77s/it]\u001b[A\n",
      " 87%|█████████████████████████████████████████████████████████████████████▎          | 260/300 [07:51<01:26,  2.17s/it]\u001b[A\n",
      " 87%|█████████████████████████████████████████████████████████████████████▌          | 261/300 [07:55<01:39,  2.56s/it]\u001b[A\n",
      " 87%|█████████████████████████████████████████████████████████████████████▊          | 262/300 [07:57<01:37,  2.57s/it]\u001b[A\n",
      " 88%|██████████████████████████████████████████████████████████████████████▏         | 263/300 [07:59<01:26,  2.34s/it]\u001b[A\n"
     ]
    },
    {
     "name": "stderr",
     "output_type": "stream",
     "text": [
      " 88%|██████████████████████████████████████████████████████████████████████▍         | 264/300 [08:01<01:17,  2.17s/it]\u001b[A\n",
      " 88%|██████████████████████████████████████████████████████████████████████▋         | 265/300 [08:03<01:11,  2.04s/it]\u001b[A\n",
      " 89%|██████████████████████████████████████████████████████████████████████▉         | 266/300 [08:04<01:06,  1.95s/it]\u001b[A\n",
      " 89%|███████████████████████████████████████████████████████████████████████▏        | 267/300 [08:08<01:17,  2.36s/it]\u001b[A\n",
      " 89%|███████████████████████████████████████████████████████████████████████▍        | 268/300 [08:11<01:27,  2.73s/it]\u001b[A\n",
      " 90%|███████████████████████████████████████████████████████████████████████▋        | 269/300 [08:15<01:32,  2.97s/it]\u001b[A\n",
      " 90%|████████████████████████████████████████████████████████████████████████        | 270/300 [08:18<01:30,  3.03s/it]\u001b[A\n",
      " 90%|████████████████████████████████████████████████████████████████████████▎       | 271/300 [08:20<01:17,  2.67s/it]\u001b[A\n",
      " 91%|████████████████████████████████████████████████████████████████████████▌       | 272/300 [08:22<01:07,  2.41s/it]\u001b[A\n",
      " 91%|████████████████████████████████████████████████████████████████████████▊       | 273/300 [08:23<01:00,  2.22s/it]\u001b[A\n",
      " 91%|█████████████████████████████████████████████████████████████████████████       | 274/300 [08:25<00:54,  2.10s/it]\u001b[A\n",
      " 92%|█████████████████████████████████████████████████████████████████████████▎      | 275/300 [08:27<00:49,  1.97s/it]\u001b[A\n",
      " 92%|█████████████████████████████████████████████████████████████████████████▌      | 276/300 [08:28<00:45,  1.88s/it]\u001b[A\n",
      " 92%|█████████████████████████████████████████████████████████████████████████▊      | 277/300 [08:30<00:41,  1.83s/it]\u001b[A\n",
      " 93%|██████████████████████████████████████████████████████████████████████████▏     | 278/300 [08:32<00:39,  1.78s/it]\u001b[A\n",
      " 93%|██████████████████████████████████████████████████████████████████████████▍     | 279/300 [08:34<00:37,  1.78s/it]\u001b[A\n",
      " 93%|██████████████████████████████████████████████████████████████████████████▋     | 280/300 [08:35<00:35,  1.77s/it]\u001b[A\n",
      " 94%|██████████████████████████████████████████████████████████████████████████▉     | 281/300 [08:37<00:33,  1.76s/it]\u001b[A\n",
      " 94%|███████████████████████████████████████████████████████████████████████████▏    | 282/300 [08:39<00:31,  1.76s/it]\u001b[A\n",
      " 94%|███████████████████████████████████████████████████████████████████████████▍    | 283/300 [08:41<00:29,  1.74s/it]\u001b[A\n",
      " 95%|███████████████████████████████████████████████████████████████████████████▋    | 284/300 [08:42<00:27,  1.74s/it]\u001b[A\n",
      " 95%|████████████████████████████████████████████████████████████████████████████    | 285/300 [08:44<00:25,  1.71s/it]\u001b[A\n",
      " 95%|████████████████████████████████████████████████████████████████████████████▎   | 286/300 [08:46<00:23,  1.68s/it]\u001b[A\n",
      " 96%|████████████████████████████████████████████████████████████████████████████▌   | 287/300 [08:47<00:21,  1.67s/it]\u001b[A\n",
      " 96%|████████████████████████████████████████████████████████████████████████████▊   | 288/300 [08:49<00:19,  1.66s/it]\u001b[A\n",
      " 96%|█████████████████████████████████████████████████████████████████████████████   | 289/300 [08:50<00:18,  1.65s/it]\u001b[A\n",
      " 97%|█████████████████████████████████████████████████████████████████████████████▎  | 290/300 [08:52<00:16,  1.65s/it]\u001b[A\n",
      " 97%|█████████████████████████████████████████████████████████████████████████████▌  | 291/300 [08:54<00:14,  1.64s/it]\u001b[A\n",
      " 97%|█████████████████████████████████████████████████████████████████████████████▊  | 292/300 [08:55<00:13,  1.63s/it]\u001b[A\n",
      " 98%|██████████████████████████████████████████████████████████████████████████████▏ | 293/300 [08:57<00:11,  1.63s/it]\u001b[A\n",
      " 98%|██████████████████████████████████████████████████████████████████████████████▍ | 294/300 [08:59<00:09,  1.63s/it]\u001b[A\n",
      " 98%|██████████████████████████████████████████████████████████████████████████████▋ | 295/300 [09:00<00:08,  1.63s/it]\u001b[A\n",
      " 99%|██████████████████████████████████████████████████████████████████████████████▉ | 296/300 [09:02<00:06,  1.63s/it]\u001b[A\n",
      " 99%|███████████████████████████████████████████████████████████████████████████████▏| 297/300 [09:03<00:04,  1.64s/it]\u001b[A\n",
      " 99%|███████████████████████████████████████████████████████████████████████████████▍| 298/300 [09:05<00:03,  1.64s/it]\u001b[A\n",
      "100%|███████████████████████████████████████████████████████████████████████████████▋| 299/300 [09:07<00:01,  1.64s/it]\u001b[A\n",
      "100%|████████████████████████████████████████████████████████████████████████████████| 300/300 [09:08<00:00,  1.83s/it]\u001b[A\n"
     ]
    }
   ],
   "source": [
    "n_steps = 50\n",
    "eps = 1e-8\n",
    "\n",
    "d = torch.tensor(1 / n_steps).to(device)\n",
    "t = torch.linspace(eps, 1 - eps, n_steps+1 ).to(device)\n",
    "\n",
    "loss_list = []\n",
    "loss_missing_list = []\n",
    "\n",
    "iteration = 300\n",
    "pbar = tqdm( total=iteration )   \n",
    "\n",
    "for i in range(0,iteration):\n",
    "\n",
    "    x_t = initial_data\n",
    "\n",
    "    for i in range(1, len(t)):\n",
    "        t_batch = t[ i-1 ].unsqueeze(0).repeat((b,))\n",
    "        d_batch = d.unsqueeze(0).repeat((b,))\n",
    "\n",
    "        with torch.no_grad():\n",
    "\n",
    "            v_pred = ema.ema_model.output(x_t, t_batch, d=d_batch, padding_masks=padding_masks) \n",
    "\n",
    "        x_t = x_t + (t[i] - t[i - 1]) * v_pred\n",
    "        \n",
    "    res_random = x_t\n",
    "\n",
    "    loss = F.mse_loss( x_t* Mask, target*Mask, reduction=\"none\")\n",
    "    loss = loss.sum()/Mask.sum()\n",
    "    \n",
    "    loss_missing = F.mse_loss( x_t*(1-Mask), target*(1-Mask), reduction=\"none\")\n",
    "    loss_missing = loss_missing.sum()/(1-Mask).sum()\n",
    "    loss_missing_list.append(loss_missing.item() )\n",
    "\n",
    "\n",
    "    loss.float().backward() \n",
    "    optimizer.step()\n",
    "    optimizer.zero_grad()\n",
    "    \n",
    "    loss_list.append(loss.item() )\n",
    "\n",
    "    pbar.update(1)\n",
    "    \n",
    "pbar.close()"
   ]
  },
  {
   "cell_type": "code",
   "execution_count": 23,
   "id": "e0a93ae7",
   "metadata": {},
   "outputs": [
    {
     "name": "stdout",
     "output_type": "stream",
     "text": [
      "[0.01825850960257049, 0.018247761371328292, 0.018237036328977642, 0.018226315354831196, 0.0182155696966897]\n"
     ]
    },
    {
     "data": {
      "text/plain": [
       "[<matplotlib.lines.Line2D at 0x1670a22c730>]"
      ]
     },
     "execution_count": 23,
     "metadata": {},
     "output_type": "execute_result"
    },
    {
     "data": {
      "image/png": "[encoded data removed]",
      "text/plain": [
       "<Figure size 640x480 with 1 Axes>"
      ]
     },
     "metadata": {},
     "output_type": "display_data"
    }
   ],
   "source": [
    "rmse1 = list( map(lambda x: x ** (1/2), loss_list) )\n",
    "rmse2 = list( map(lambda x: x ** (1/2), loss_missing_list) )\n",
    "\n",
    "print( rmse2[-5:]  )\n",
    "\n",
    "plt.figure()\n",
    "# plt.plot(rmse1)\n",
    "plt.plot(rmse2)"
   ]
  },
  {
   "cell_type": "markdown",
   "id": "85b628bf",
   "metadata": {},
   "source": [
    "# RMSE by random initialization"
   ]
  },
  {
   "cell_type": "code",
   "execution_count": 24,
   "id": "60cde27d",
   "metadata": {},
   "outputs": [
    {
     "name": "stdout",
     "output_type": "stream",
     "text": [
      "RMSE tensor(0.0182, grad_fn=<ToCopyBackward0>)\n"
     ]
    }
   ],
   "source": [
    "rmse = calc_rmse(res_random, target,1-Mask).cpu()\n",
    "print( 'RMSE', rmse )\n",
    "\n",
    "result_pre = res_random"
   ]
  },
  {
   "cell_type": "markdown",
   "id": "d3ec4bcd",
   "metadata": {},
   "source": [
    "# use extra inversion and refinement steps to refine result from random initialization"
   ]
  },
  {
   "cell_type": "code",
   "execution_count": 25,
   "id": "c178fe76",
   "metadata": {},
   "outputs": [],
   "source": [
    "n_steps =100  \n",
    "eps = 1e-8\n",
    "d = torch.tensor(1 / n_steps).to(device)"
   ]
  },
  {
   "cell_type": "code",
   "execution_count": 29,
   "id": "34cd3d44",
   "metadata": {},
   "outputs": [
    {
     "name": "stderr",
     "output_type": "stream",
     "text": [
      "  0%|                                                                                            | 0/6 [00:00<?, ?it/s]C:\\Users\\PC123\\AppData\\Local\\Temp\\ipykernel_36576\\3717884182.py:12: UserWarning: To copy construct from a tensor, it is recommended to use sourceTensor.clone().detach() or sourceTensor.clone().detach().requires_grad_(True), rather than torch.tensor(sourceTensor).\n",
      "  x_t = torch.tensor( res_random ).cuda()*(1- Mask) + target*Mask\n",
      "100%|████████████████████████████████████████████████████████████████████████████████████| 6/6 [00:20<00:00,  3.38s/it]\n"
     ]
    }
   ],
   "source": [
    "loss_list = []\n",
    "loss_missing_list = []\n",
    "\n",
    "inversion_iter = 1\n",
    "refine_iter = 5\n",
    "\n",
    "pbar = tqdm( total= inversion_iter * refine_iter + inversion_iter )   #\n",
    "\n",
    "for j in range(0, inversion_iter  ):\n",
    "    \n",
    "    if j==0:       \n",
    "        x_t = torch.tensor( res_random ).cuda()*(1- Mask) + target*Mask\n",
    "    else:         \n",
    "        x_t = refined_res*(1- Mask) + target*Mask\n",
    "        \n",
    "    t = torch.linspace( 1-eps, eps, n_steps+1 ).to(device)\n",
    "\n",
    "    '------------- vanilla flow inversion------------'\n",
    "    for i in range(1, len(t)):\n",
    "        t_batch = t[ i-1 ].unsqueeze(0).repeat((b,))\n",
    "        d_batch = d.unsqueeze(0).repeat((b,))\n",
    "        with torch.no_grad():\n",
    "            v_pred = ema.ema_model.output(x_t, t_batch, d=d_batch, padding_masks=padding_masks) \n",
    "        x_t = x_t - (t[i-1] - t[i]) * v_pred\n",
    "        \n",
    "    inverted_code = Variable( x_t, requires_grad=True)\n",
    "    optimizer = torch.optim.Adam(  [inverted_code], lr=0.001)  \n",
    "\n",
    "    pbar.update(1)\n",
    "    \n",
    "    \n",
    "    '------------------ vanilla flow sampling---------------'\n",
    "    t = torch.linspace( eps, 1-eps , n_steps+1 ).to(device)\n",
    "        \n",
    "    for i in range(0, refine_iter):\n",
    "        \n",
    "        x_t = inverted_code\n",
    "\n",
    "        for i in range(1, len(t)):\n",
    "            t_batch = t[ i-1 ].unsqueeze(0).repeat((b,))\n",
    "            d_batch = d.unsqueeze(0).repeat((b,))\n",
    "\n",
    "            with torch.no_grad():\n",
    "                v_pred = ema.ema_model.output(x_t, t_batch, d=d_batch, padding_masks=padding_masks) \n",
    "\n",
    "            x_t = x_t + (t[i] - t[i - 1]) * v_pred\n",
    "\n",
    "        refined_res = x_t\n",
    "\n",
    "        loss = F.mse_loss( x_t*Mask , target*Mask , reduction=\"none\")\n",
    "        loss = loss.sum()/Mask.sum()\n",
    "        loss_list.append(loss.item() )\n",
    "\n",
    "\n",
    "        loss_missing = F.mse_loss( x_t*(1-Mask), target*(1-Mask), reduction=\"none\")\n",
    "        loss_missing = loss_missing.sum()/(1-Mask).sum()\n",
    "        loss_missing_list.append(loss_missing.item() )\n",
    "\n",
    "\n",
    "        loss.float().backward() \n",
    "        optimizer.step()\n",
    "        optimizer.zero_grad()\n",
    "\n",
    "        pbar.update(1)\n",
    "\n",
    "pbar.close()"
   ]
  },
  {
   "cell_type": "code",
   "execution_count": 30,
   "id": "e8dfe9d5",
   "metadata": {},
   "outputs": [
    {
     "name": "stdout",
     "output_type": "stream",
     "text": [
      "[0.01837 0.01804 0.0178  0.01763 0.01751]\n"
     ]
    },
    {
     "data": {
      "text/plain": [
       "Text(0.5, 1.0, 'evolution of refined RMSE')"
      ]
     },
     "execution_count": 30,
     "metadata": {},
     "output_type": "execute_result"
    },
    {
     "data": {
      "image/png": "[encoded data removed]",
      "text/plain": [
       "<Figure size 640x480 with 1 Axes>"
      ]
     },
     "metadata": {},
     "output_type": "display_data"
    }
   ],
   "source": [
    "rmse1 = list( map(lambda x: x ** (1/2), loss_list) )\n",
    "rmse2 = list( map(lambda x: x ** (1/2), loss_missing_list) )\n",
    "print( np.around( rmse2, 5 )  )\n",
    "\n",
    "plt.figure()\n",
    "# plt.plot(rmse1)\n",
    "plt.plot(rmse2)\n",
    "plt.title('evolution of refined RMSE')"
   ]
  },
  {
   "cell_type": "markdown",
   "id": "3e68afec",
   "metadata": {},
   "source": [
    "# refined RMSE from random initialization"
   ]
  },
  {
   "cell_type": "code",
   "execution_count": 31,
   "id": "d6a3cb1f",
   "metadata": {},
   "outputs": [
    {
     "name": "stdout",
     "output_type": "stream",
     "text": [
      "RMSE tensor(0.0175, grad_fn=<ToCopyBackward0>)\n",
      "MAE tensor(0.0110, grad_fn=<ToCopyBackward0>)\n"
     ]
    }
   ],
   "source": [
    "rmse = calc_rmse( refined_res, target,1-Mask).cpu()\n",
    "mae = calc_mae( refined_res, target, 1-Mask).cpu() \n",
    "print( 'RMSE', rmse )\n",
    "print( 'MAE', mae )"
   ]
  },
  {
   "cell_type": "code",
   "execution_count": null,
   "id": "3db1ab79",
   "metadata": {},
   "outputs": [],
   "source": []
  },
  {
   "cell_type": "code",
   "execution_count": null,
   "id": "fcdf3277",
   "metadata": {},
   "outputs": [],
   "source": []
  },
  {
   "cell_type": "code",
   "execution_count": null,
   "id": "d6b4dd33",
   "metadata": {},
   "outputs": [],
   "source": []
  }
 ],
 "metadata": {
  "celltoolbar": "原始单元格格式",
  "kernelspec": {
   "display_name": "Python 3 (ipykernel)",
   "language": "python",
   "name": "python3"
  },
  "language_info": {
   "codemirror_mode": {
    "name": "ipython",
    "version": 3
   },
   "file_extension": ".py",
   "mimetype": "text/x-python",
   "name": "python",
   "nbconvert_exporter": "python",
   "pygments_lexer": "ipython3",
   "version": "3.9.13"
  }
 },
 "nbformat": 4,
 "nbformat_minor": 5
}
