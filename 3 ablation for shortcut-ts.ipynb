{
 "cells": [
  {
   "cell_type": "code",
   "execution_count": 1,
   "id": "3daa4ff6",
   "metadata": {},
   "outputs": [
    {
     "name": "stderr",
     "output_type": "stream",
     "text": [
      "2025-08-06 13:15:41 [WARNING]: ‼️ `pypots.utils.metrics` is deprecated. Please import from `pypots.nn.functional` instead.\n"
     ]
    },
    {
     "name": "stdout",
     "output_type": "stream",
     "text": [
      "\u001b[34m\n",
      "████████╗██╗███╗   ███╗███████╗    ███████╗███████╗██████╗ ██╗███████╗███████╗    █████╗ ██╗\n",
      "╚══██╔══╝██║████╗ ████║██╔════╝    ██╔════╝██╔════╝██╔══██╗██║██╔════╝██╔════╝   ██╔══██╗██║\n",
      "   ██║   ██║██╔████╔██║█████╗█████╗███████╗█████╗  ██████╔╝██║█████╗  ███████╗   ███████║██║\n",
      "   ██║   ██║██║╚██╔╝██║██╔══╝╚════╝╚════██║██╔══╝  ██╔══██╗██║██╔══╝  ╚════██║   ██╔══██║██║\n",
      "   ██║   ██║██║ ╚═╝ ██║███████╗    ███████║███████╗██║  ██║██║███████╗███████║██╗██║  ██║██║\n",
      "   ╚═╝   ╚═╝╚═╝     ╚═╝╚══════╝    ╚══════╝╚══════╝╚═╝  ╚═╝╚═╝╚══════╝╚══════╝╚═╝╚═╝  ╚═╝╚═╝\n",
      "ai4ts v0.0.3 - building AI for unified time-series analysis, https://time-series.ai \u001b[0m\n",
      "\n"
     ]
    }
   ],
   "source": [
    "import os\n",
    "import torch\n",
    "import argparse\n",
    "import numpy as np\n",
    "\n",
    "from engine.logger import Logger\n",
    "from engine.solver import Trainer\n",
    "from Data.build_dataloader import build_dataloader, build_dataloader_cond\n",
    "from Models.interpretable_diffusion.model_utils import unnormalize_to_zero_to_one\n",
    "from Utils.io_utils import load_yaml_config, seed_everything, merge_opts_to_config, instantiate_from_config\n",
    "from Utils.metric_utils import visualization\n",
    "\n",
    "import sys\n",
    "import time\n",
    "import torch.nn as nn\n",
    "import torch.nn.functional as F\n",
    "\n",
    "from pathlib import Path\n",
    "from tqdm import tqdm\n",
    "from ema_pytorch import EMA\n",
    "from torch.optim import Adam\n",
    "from torch.nn.utils import clip_grad_norm_\n",
    "from Utils.io_utils import instantiate_from_config, get_model_parameters_info\n",
    "\n",
    "\n",
    "from sklearn.manifold import TSNE\n",
    "from sklearn.decomposition import PCA\n",
    "import matplotlib.pyplot as plt\n",
    "plt.rc('font',family='Times New Roman') \n",
    "\n",
    "import umap                        \n",
    "import seaborn as sns \n",
    "\n",
    "from pypots.utils.metrics import calc_mse,calc_rmse,calc_mae\n",
    "import random"
   ]
  },
  {
   "cell_type": "code",
   "execution_count": 2,
   "id": "dc7cca43",
   "metadata": {},
   "outputs": [],
   "source": [
    "def visualization2(ori, gen):\n",
    "    \n",
    "    Number = ori.shape[0]\n",
    "    \n",
    "    max_sample = min([4000, Number])      \n",
    "    idx = np.random.permutation(Number)[ :max_sample]\n",
    "\n",
    "    ori1 = np.asarray(ori)[idx]\n",
    "    gen1 = np.asarray(gen)[idx]\n",
    "\n",
    "    ori1 = np.mean(ori1, 2) \n",
    "    gen1 = np.mean(gen1, 2) \n",
    "\n",
    "    concat_data = np.concatenate((ori1, gen1), axis=0)\n",
    "    \n",
    "    pca = PCA(2)     \n",
    "    pca_res = pca.fit_transform(concat_data)\n",
    "\n",
    "    tsne = TSNE(n_components=2, verbose=1, perplexity=40,random_state=20,n_iter=500) \n",
    "    tsne_res = tsne.fit_transform(concat_data) \n",
    "\n",
    "    umap_ = umap.UMAP(random_state=42)\n",
    "    umap_res = umap_.fit_transform(concat_data)\n",
    "    \n",
    "    \n",
    "    fig = plt.figure(figsize=(19,4))\n",
    "    plt.subplot(1,4,1)\n",
    "    \n",
    "    plt.scatter(pca_res[:2000,0],pca_res[:2000,1], s=15, c='#ff7f0e')\n",
    "    plt.scatter(pca_res[max_sample:max_sample+2000,0],pca_res[max_sample:max_sample+2000,1], s=15, c='#1f77b4')\n",
    "    plt.xlabel('(a)',fontsize=25)\n",
    "    \n",
    "    plt.subplot(1,4,2)\n",
    "    plt.scatter(tsne_res[:2000,0],tsne_res[:2000,1],  s=15,  c='#ff7f0e')\n",
    "    plt.scatter(tsne_res[max_sample:max_sample+2000,0],tsne_res[max_sample:max_sample+2000,1], s=15, c='#1f77b4')\n",
    "    plt.xlabel('(b)',fontsize=25)\n",
    "\n",
    "    plt.subplot(1,4,3)\n",
    "    plt.scatter(umap_res[:2000, 0], umap_res[:2000, 1],  cmap='Spectral', s=15,  c='#ff7f0e')\n",
    "    plt.scatter(umap_res[max_sample:max_sample+2000, 0], umap_res[max_sample:max_sample+2000, 1],  cmap='Spectral', s=15, c='#1f77b4')\n",
    "    plt.xlabel('(c)',fontsize=25)\n",
    "\n",
    "    \n",
    "    plt.subplot(1,4,4)\n",
    "    sns.distplot(ori[:,:,1], hist=False, color = '#ff7f0e' )\n",
    "    sns.distplot(gen[:,:,1], hist=False, color = '#1f77b4' )  \n",
    "    plt.xlabel('(d)',fontsize=25)\n",
    "    "
   ]
  },
  {
   "cell_type": "code",
   "execution_count": 3,
   "id": "8a88cf11",
   "metadata": {},
   "outputs": [],
   "source": [
    "def parse_args():\n",
    "    parser = argparse.ArgumentParser(description='PyTorch Training Script')\n",
    "    parser.add_argument('--name', type=str, default=None)\n",
    "\n",
    "    parser.add_argument('--config_file', type=str, default=None, \n",
    "                        help='path of config file')\n",
    "    parser.add_argument('--output', type=str, default='OUTPUT', \n",
    "                        help='directory to save the results')\n",
    "    parser.add_argument('--tensorboard', action='store_true', \n",
    "                        help='use tensorboard for logging')\n",
    "\n",
    "    # args for random\n",
    "\n",
    "    parser.add_argument('--cudnn_deterministic', action='store_true', default=False,\n",
    "                        help='set cudnn.deterministic True')\n",
    "    parser.add_argument('--seed', type=int, default=10, \n",
    "                        help='seed for initializing training.')\n",
    "    parser.add_argument('--gpu', type=int, default=None,\n",
    "                        help='GPU id to use. If given, only the specific gpu will be'\n",
    "                        ' used, and ddp will be disabled')\n",
    "    \n",
    "    # args for training\n",
    "    parser.add_argument('--train', action='store_true', default=False, help='Train or Test.')\n",
    "    parser.add_argument('--sample', type=int, default=0, \n",
    "                        choices=[0, 1], help='Condition or Uncondition.')\n",
    "    parser.add_argument('--mode', type=str, default='infill',\n",
    "                        help='Infilling or Forecasting.')\n",
    "    parser.add_argument('--milestone', type=int, default=10)\n",
    "\n",
    "    parser.add_argument('--missing_ratio', type=float, default=0., help='Ratio of Missing Values.')\n",
    "    parser.add_argument('--pred_len', type=int, default=0, help='Length of Predictions.')\n",
    "    \n",
    "    \n",
    "    # args for modify config\n",
    "    parser.add_argument('opts', help='Modify config options using the command-line',\n",
    "                        default=None, nargs=argparse.REMAINDER)  \n",
    "\n",
    "    args = parser.parse_args(args=[])\n",
    "    args.save_dir = os.path.join(args.output, f'{args.name}')\n",
    "\n",
    "    return args\n"
   ]
  },
  {
   "cell_type": "code",
   "execution_count": 5,
   "id": "f4a503d1",
   "metadata": {},
   "outputs": [
    {
     "name": "stdout",
     "output_type": "stream",
     "text": [
      "Namespace(name=None, config_file='./Config/exchange_rate.yaml', output='OUTPUT', tensorboard=False, cudnn_deterministic=False, seed=10, gpu=0, train=True, sample=0, mode='infill', milestone=10, missing_ratio=0.0, pred_len=0, opts=[], save_dir='OUTPUT\\\\None')\n"
     ]
    }
   ],
   "source": [
    "args = parse_args()\n",
    "\n",
    "# data_name = 'ETTh1'\n",
    "# data_name = 'Energy'\n",
    "# data_name = 'weather'\n",
    "data_name = 'exchange_rate'\n",
    "\n",
    "\n",
    "    \n",
    "if data_name == 'ETTh1':\n",
    "    args.config_file =  './Config/ETTh1.yaml'\n",
    "\n",
    "elif data_name == 'Energy':\n",
    "    args.config_file =  './Config/Energy.yaml'\n",
    "\n",
    "elif data_name == 'weather':\n",
    "    args.config_file =  './Config/weather.yaml'\n",
    "    \n",
    "elif data_name == 'exchange_rate':\n",
    "    args.config_file =  './Config/exchange_rate.yaml'\n",
    "    \n",
    "args.gpu =  0\n",
    "args.train = True\n",
    "print(args)"
   ]
  },
  {
   "cell_type": "code",
   "execution_count": 6,
   "id": "8b39db9f",
   "metadata": {},
   "outputs": [
    {
     "name": "stdout",
     "output_type": "stream",
     "text": [
      "Global seed set to 10\n",
      "{'model': {'target': 'Models.interpretable_diffusion.gaussian_diffusion.Diffusion_TS', 'params': {'seq_length': 24, 'feature_size': 8, 'n_layer_enc': 4, 'n_layer_dec': 3, 'd_model': 96, 'timesteps': 500, 'sampling_timesteps': 500, 'loss_type': 'l1', 'beta_schedule': 'cosine', 'n_heads': 4, 'mlp_hidden_times': 4, 'attn_pd': 0.0, 'resid_pd': 0.0, 'kernel_size': 1, 'padding_size': 0}}, 'solver': {'base_lr': 1e-05, 'max_epochs': 25000, 'results_folder': './Checkpoints_energy', 'gradient_accumulate_every': 2, 'save_cycle': 2500, 'ema': {'decay': 0.995, 'update_interval': 10}, 'scheduler': {'target': 'engine.lr_sch.ReduceLROnPlateauWithWarmup', 'params': {'factor': 0.5, 'patience': 5000, 'min_lr': 1e-05, 'threshold': 0.1, 'threshold_mode': 'rel', 'warmup_lr': 0.0008, 'warmup': 500, 'verbose': False}}}, 'dataloader': {'train_dataset': {'target': 'Utils.Data_utils.real_datasets.CustomDataset', 'params': {'name': 'energy', 'proportion': 1.0, 'data_root': './Data/datasets/energy_data.csv', 'window': 24, 'save2npy': True, 'neg_one_to_one': True, 'seed': 123, 'period': 'train'}}, 'test_dataset': {'target': 'Utils.Data_utils.real_datasets.CustomDataset', 'params': {'name': 'energy', 'proportion': 0.9, 'data_root': './Data/datasets/energy_data.csv', 'window': 24, 'save2npy': True, 'neg_one_to_one': True, 'seed': 123, 'period': 'test', 'style': 'separate', 'distribution': 'geometric'}, 'coefficient': 0.01, 'step_size': 0.05, 'sampling_steps': 250}, 'batch_size': 128, 'sample_size': 256, 'shuffle': True}}\n",
      "cosine 500\n"
     ]
    }
   ],
   "source": [
    "if args.seed is not None:\n",
    "    seed_everything(args.seed)\n",
    "\n",
    "if args.gpu is not None:\n",
    "    torch.cuda.set_device(args.gpu)\n",
    "\n",
    "config = load_yaml_config(args.config_file)\n",
    "config = merge_opts_to_config(config, args.opts)\n",
    "\n",
    "\n",
    "config['dataloader']['batch_size'] = 128\n",
    "print(config)\n",
    "\n",
    "beta_schedule = config['model']['params']['beta_schedule'] \n",
    "timesteps = config['model']['params']['timesteps'] \n",
    "print(beta_schedule, timesteps)"
   ]
  },
  {
   "cell_type": "code",
   "execution_count": 8,
   "id": "3406e18f",
   "metadata": {},
   "outputs": [
    {
     "name": "stdout",
     "output_type": "stream",
     "text": [
      "(2522, 24, 8)\n"
     ]
    }
   ],
   "source": [
    "import torch\n",
    "from torch.utils.data import Dataset\n",
    "from torch.utils.data import DataLoader\n",
    "\n",
    "\n",
    "\n",
    "if data_name == 'ETTh1':\n",
    "    load_data = np.load( './Data/datasets/ETTh1.npy')\n",
    "    \n",
    "elif data_name == 'Energy':\n",
    "    load_data = np.load( './Data/datasets/Energy.npy')\n",
    "\n",
    "    \n",
    "elif data_name == 'weather':\n",
    "    load_data = np.load( './Data/datasets/weather.npy')\n",
    "    \n",
    "elif data_name == 'exchange_rate':\n",
    "    load_data = np.load( './Data/datasets/exchange_rate.npy')\n",
    "    \n",
    "    \n",
    "np.random.shuffle(load_data)\n",
    "\n",
    "\n",
    "Numble = load_data.shape[0]\n",
    "Length = load_data.shape[1]\n",
    "Feature = load_data.shape[2]\n",
    "   \n",
    "shape = (Numble, Length, Feature)\n",
    "print(shape)"
   ]
  },
  {
   "cell_type": "code",
   "execution_count": null,
   "id": "6b0886b8",
   "metadata": {},
   "outputs": [],
   "source": []
  },
  {
   "cell_type": "code",
   "execution_count": 9,
   "id": "6152062b",
   "metadata": {},
   "outputs": [],
   "source": [
    "def default(val, d):\n",
    "    if exists(val):\n",
    "        return val\n",
    "    return d() if callable(d) else d\n",
    "\n",
    "def exists(x):\n",
    "    return x is not None\n",
    "\n",
    "from Models.interpretable_diffusion.model_utils import default, identity, extract\n",
    "from Models.interpretable_diffusion.gaussian_diffusion import linear_beta_schedule, cosine_beta_schedule, Diffusion_TS\n",
    "import torch.nn.functional as F\n"
   ]
  },
  {
   "cell_type": "code",
   "execution_count": null,
   "id": "aebe342a",
   "metadata": {
    "scrolled": true
   },
   "outputs": [],
   "source": []
  },
  {
   "cell_type": "markdown",
   "id": "f0c57ce4",
   "metadata": {},
   "source": [
    "# load shortcut"
   ]
  },
  {
   "cell_type": "code",
   "execution_count": 12,
   "id": "855ddb2c",
   "metadata": {},
   "outputs": [],
   "source": [
    "shortcut = instantiate_from_config(config['model']).cuda()\n",
    "\n",
    "device = shortcut.betas.device"
   ]
  },
  {
   "cell_type": "code",
   "execution_count": 13,
   "id": "cfa3e29a",
   "metadata": {},
   "outputs": [],
   "source": [
    "start_lr = config['solver'].get('base_lr', 1.0e-4)\n",
    "ema_decay = config['solver']['ema']['decay']\n",
    "ema_update_every = config['solver']['ema']['update_interval']\n",
    "ema = EMA(shortcut, beta=ema_decay, update_every=ema_update_every).to(device)\n",
    "\n",
    "opt = Adam(filter(lambda p: p.requires_grad, shortcut.parameters()), lr=start_lr, betas=[0.9, 0.96])\n",
    "sc_cfg = config['solver']['scheduler']\n",
    "sc_cfg['params']['optimizer'] = opt   \n",
    "sch = instantiate_from_config(sc_cfg)   \n"
   ]
  },
  {
   "cell_type": "code",
   "execution_count": 14,
   "id": "af700df2",
   "metadata": {},
   "outputs": [],
   "source": [
    "ds = 1 / torch.tensor([2 ** i for i in range(1, 8)]).to(device)\n",
    "ds_p = torch.ones((ds.shape[0],)).to(device) / ds.shape[0]\n",
    "\n",
    "d = ds[ds_p.multinomial(5, replacement=True).to(device)]\n",
    "\n",
    "t = torch.rand(size=(10, 1), device=device)\n",
    "\n",
    "def reshape_coefs(t):\n",
    "    return t.reshape((t.shape[0], 1,  1))"
   ]
  },
  {
   "cell_type": "code",
   "execution_count": 15,
   "id": "59eb7fe3",
   "metadata": {},
   "outputs": [],
   "source": [
    "padding_masks = None\n",
    "clip_x_start = False\n",
    "clip_denoised = True"
   ]
  },
  {
   "cell_type": "code",
   "execution_count": 23,
   "id": "34c88127",
   "metadata": {},
   "outputs": [
    {
     "data": {
      "text/plain": [
       "<All keys matched successfully>"
      ]
     },
     "execution_count": 23,
     "metadata": {},
     "output_type": "execute_result"
    }
   ],
   "source": [
    "shortcut = instantiate_from_config(config['model']).cuda()\n",
    "\n",
    "# shortcut.load_state_dict(torch.load( \"./checkpoint/shortcut/ETTh1_shortcut.pth\"  ))\n",
    "# ema.load_state_dict(torch.load( \"./checkpoint/shortcut/ETTh1_ema_shortcut.pth\"  ))\n",
    "\n",
    "# shortcut.load_state_dict(torch.load( \"./checkpoint/shortcut/Energy_shortcut.pth\"  ))\n",
    "# ema.load_state_dict(torch.load( \"./checkpoint/shortcut/Energy_ema_shortcut.pth\"  ))\n",
    "\n",
    "\n",
    "shortcut.load_state_dict(torch.load( \"./checkpoint/shortcut/exchange_rate_shortcut.pth\"  ))\n",
    "ema.load_state_dict(torch.load( \"./checkpoint/shortcut/exchange_rate_ema_shortcut.pth\"  ))\n",
    "\n",
    "\n",
    "# shortcut.load_state_dict(torch.load( \"./checkpoint/shortcut/weather_shortcut.pth\"  ))\n",
    "# ema.load_state_dict(torch.load( \"./checkpoint/shortcut/weather_ema_shortcut.pth\"  ))\n"
   ]
  },
  {
   "cell_type": "code",
   "execution_count": 20,
   "id": "9f80cf5d",
   "metadata": {},
   "outputs": [],
   "source": []
  },
  {
   "cell_type": "code",
   "execution_count": null,
   "id": "e3f437b5",
   "metadata": {},
   "outputs": [],
   "source": []
  },
  {
   "cell_type": "code",
   "execution_count": 24,
   "id": "34dc565d",
   "metadata": {},
   "outputs": [],
   "source": [
    "from torch.autograd import Variable\n",
    "\n",
    "def get_mask_mcar(sample, mr): \n",
    "    mask = torch.ones(sample.shape).view(1,-1) \n",
    "    index = torch.tensor(range(mask.shape[1]))  \n",
    "    perm = torch.randperm(len(index)) \n",
    "    index = perm[ 0: round( mr*len(index) ) ]\n",
    "    mask[0][index]=0\n",
    "    mask = mask.view(sample.shape)\n",
    "    return mask\n",
    "\n",
    "\n",
    "def get_mask_mnr(sample, k): \n",
    "    mask = torch.ones(sample.shape)\n",
    "    length_index = torch.tensor(range(mask.shape[0]))\n",
    "    list_of_segments_index = torch.split(length_index, k)\n",
    "    for channel in range(mask.shape[1]):\n",
    "        s_nan = random.choice(list_of_segments_index)\n",
    "        mask[:, channel][s_nan[0]:s_nan[-1] + 1] = 0\n",
    "\n",
    "    return mask\n"
   ]
  },
  {
   "cell_type": "markdown",
   "id": "75af02d1",
   "metadata": {},
   "source": [
    "# initialize code randomly"
   ]
  },
  {
   "cell_type": "code",
   "execution_count": 25,
   "id": "432dc193",
   "metadata": {},
   "outputs": [
    {
     "name": "stdout",
     "output_type": "stream",
     "text": [
      "torch.Size([1000, 24, 8])\n"
     ]
    }
   ],
   "source": [
    "target = torch.tensor( load_data[0:1000] ).float().cuda()\n",
    "shape = target.shape\n",
    "print(shape)\n",
    "\n",
    "b, c, n, = target.shape\n",
    "\n",
    "code = torch.randn(shape, device=device)\n",
    "initial_data = Variable( code, requires_grad=True)\n",
    "optimizer = torch.optim.Adam(  [initial_data], lr=0.01)  \n",
    "padding_masks = torch.ones(b, c, dtype=bool, device=device)"
   ]
  },
  {
   "cell_type": "markdown",
   "id": "bc04f43d",
   "metadata": {},
   "source": [
    "# choose missing rate, mechanism "
   ]
  },
  {
   "cell_type": "code",
   "execution_count": 26,
   "id": "dd38e489",
   "metadata": {},
   "outputs": [
    {
     "name": "stdout",
     "output_type": "stream",
     "text": [
      "torch.Size([0, 24, 8])\n",
      "torch.Size([1000, 24, 8])\n"
     ]
    }
   ],
   "source": [
    "mr = 0.3\n",
    "mechanism = 'mcar'  # or 'mnr'\n",
    "# mechanism = 'mnr'\n",
    "missing_length = int( mr * Length )\n",
    "\n",
    "\n",
    "Mask = torch.empty([0, c, n])    \n",
    "print( Mask.shape)\n",
    "\n",
    "for i in range(target.shape[0]):\n",
    "    if mechanism == 'mcar':\n",
    "        one_mask = get_mask_mcar( target[0], mr)  \n",
    "    else:\n",
    "        one_mask = get_mask_mnr( target[0], missing_length) \n",
    "\n",
    "    one_mask = one_mask.unsqueeze(0)   \n",
    "    Mask = torch.row_stack([Mask, one_mask])\n",
    "\n",
    "Mask = Mask.float().cuda()\n",
    "print( Mask.shape )\n",
    "\n"
   ]
  },
  {
   "cell_type": "markdown",
   "id": "622d5fb5",
   "metadata": {},
   "source": [
    "# optimize random code "
   ]
  },
  {
   "cell_type": "code",
   "execution_count": 27,
   "id": "513f5b53",
   "metadata": {},
   "outputs": [
    {
     "name": "stderr",
     "output_type": "stream",
     "text": [
      "100%|████████████████████████████████████████████████████████████████████████████████| 500/500 [13:53<00:00,  1.67s/it]\n"
     ]
    }
   ],
   "source": [
    "n_steps = 50\n",
    "eps = 1e-8\n",
    "\n",
    "d = torch.tensor(1 / n_steps).to(device)\n",
    "t = torch.linspace(eps, 1 - eps, n_steps+1 ).to(device)\n",
    "\n",
    "loss_list = []\n",
    "loss_missing_list = []\n",
    "\n",
    "iteration = 500\n",
    "pbar = tqdm( total=iteration )   \n",
    "\n",
    "for i in range(0,iteration):\n",
    "\n",
    "    x_t = initial_data\n",
    "\n",
    "    for i in range(1, len(t)):\n",
    "        t_batch = t[ i-1 ].unsqueeze(0).repeat((b,))\n",
    "        d_batch = d.unsqueeze(0).repeat((b,))\n",
    "\n",
    "        with torch.no_grad():\n",
    "\n",
    "            v_pred = ema.ema_model.output(x_t, t_batch, d=d_batch, padding_masks=padding_masks) \n",
    "\n",
    "        x_t = x_t + (t[i] - t[i - 1]) * v_pred\n",
    "        \n",
    "    res_random = x_t\n",
    "\n",
    "    loss = F.mse_loss( x_t* Mask, target*Mask, reduction=\"none\")\n",
    "    loss = loss.sum()/Mask.sum()\n",
    "    \n",
    "    loss_missing = F.mse_loss( x_t*(1-Mask), target*(1-Mask), reduction=\"none\")\n",
    "    loss_missing = loss_missing.sum()/(1-Mask).sum()\n",
    "    loss_missing_list.append(loss_missing.item() )\n",
    "\n",
    "\n",
    "    loss.float().backward() \n",
    "    optimizer.step()\n",
    "    optimizer.zero_grad()\n",
    "    \n",
    "    loss_list.append(loss.item() )\n",
    "\n",
    "    pbar.update(1)\n",
    "    \n",
    "pbar.close()"
   ]
  },
  {
   "cell_type": "code",
   "execution_count": 146,
   "id": "e0a93ae7",
   "metadata": {},
   "outputs": [
    {
     "name": "stdout",
     "output_type": "stream",
     "text": [
      "[0.026037022181436394, 0.026033912313825396, 0.026030830026005914, 0.026027562872032832, 0.026024352342818052]\n"
     ]
    },
    {
     "data": {
      "text/plain": [
       "[<matplotlib.lines.Line2D at 0x1f332d74f10>]"
      ]
     },
     "execution_count": 146,
     "metadata": {},
     "output_type": "execute_result"
    },
    {
     "data": {
      "image/png": "[encoded data removed]",
      "text/plain": [
       "<Figure size 640x480 with 1 Axes>"
      ]
     },
     "metadata": {},
     "output_type": "display_data"
    }
   ],
   "source": [
    "rmse1 = list( map(lambda x: x ** (1/2), loss_list) )\n",
    "rmse2 = list( map(lambda x: x ** (1/2), loss_missing_list) )\n",
    "\n",
    "print( rmse2[-5:]  )\n",
    "\n",
    "plt.figure()\n",
    "# plt.plot(rmse1)\n",
    "plt.plot(rmse2)"
   ]
  },
  {
   "cell_type": "markdown",
   "id": "85b628bf",
   "metadata": {},
   "source": [
    "# RMSE by random initialization"
   ]
  },
  {
   "cell_type": "code",
   "execution_count": 28,
   "id": "60cde27d",
   "metadata": {},
   "outputs": [
    {
     "name": "stdout",
     "output_type": "stream",
     "text": [
      "RMSE tensor(0.0131, grad_fn=<ToCopyBackward0>)\n"
     ]
    }
   ],
   "source": [
    "rmse = calc_rmse(res_random, target,1-Mask).cpu()\n",
    "print( 'RMSE', rmse )\n",
    "\n",
    "result_pre = res_random"
   ]
  },
  {
   "cell_type": "markdown",
   "id": "d3ec4bcd",
   "metadata": {},
   "source": [
    "# use extra inversion and refinement steps to refine result from random initialization"
   ]
  },
  {
   "cell_type": "code",
   "execution_count": 29,
   "id": "c178fe76",
   "metadata": {},
   "outputs": [],
   "source": [
    "n_steps =100  \n",
    "eps = 1e-8\n",
    "d = torch.tensor(1 / n_steps).to(device)"
   ]
  },
  {
   "cell_type": "code",
   "execution_count": 33,
   "id": "34cd3d44",
   "metadata": {},
   "outputs": [
    {
     "name": "stderr",
     "output_type": "stream",
     "text": [
      "  0%|                                                                                            | 0/9 [00:00<?, ?it/s]C:\\Users\\PC123\\AppData\\Local\\Temp\\ipykernel_33532\\11349365.py:12: UserWarning: To copy construct from a tensor, it is recommended to use sourceTensor.clone().detach() or sourceTensor.clone().detach().requires_grad_(True), rather than torch.tensor(sourceTensor).\n",
      "  x_t = torch.tensor( res_random ).cuda()*(1- Mask) + target*Mask\n",
      "100%|████████████████████████████████████████████████████████████████████████████████████| 9/9 [00:30<00:00,  3.40s/it]\n"
     ]
    }
   ],
   "source": [
    "loss_list = []\n",
    "loss_missing_list = []\n",
    "\n",
    "inversion_iter = 1\n",
    "refine_iter = 8\n",
    "\n",
    "pbar = tqdm( total= inversion_iter * refine_iter + inversion_iter )   #\n",
    "\n",
    "for j in range(0, inversion_iter  ):\n",
    "    \n",
    "    if j==0:       \n",
    "        x_t = torch.tensor( res_random ).cuda()*(1- Mask) + target*Mask\n",
    "    else:         \n",
    "        x_t = refined_res*(1- Mask) + target*Mask\n",
    "        \n",
    "    t = torch.linspace( 1-eps, eps, n_steps+1 ).to(device)\n",
    "\n",
    "    '-------------flow inversion------------'\n",
    "    for i in range(1, len(t)):\n",
    "        t_batch = t[ i-1 ].unsqueeze(0).repeat((b,))\n",
    "        d_batch = d.unsqueeze(0).repeat((b,))\n",
    "        with torch.no_grad():\n",
    "            v_pred = ema.ema_model.output(x_t, t_batch, d=d_batch, padding_masks=padding_masks) \n",
    "        x_t = x_t - (t[i-1] - t[i]) * v_pred\n",
    "        \n",
    "    inverted_code = Variable( x_t, requires_grad=True)\n",
    "    optimizer = torch.optim.Adam(  [inverted_code], lr=0.001)  \n",
    "\n",
    "    pbar.update(1)\n",
    "    \n",
    "    \n",
    "    '------------------flow sampling---------------'\n",
    "    t = torch.linspace( eps, 1-eps , n_steps+1 ).to(device)\n",
    "        \n",
    "    for i in range(0, refine_iter):\n",
    "        \n",
    "        x_t = inverted_code\n",
    "\n",
    "        for i in range(1, len(t)):\n",
    "            t_batch = t[ i-1 ].unsqueeze(0).repeat((b,))\n",
    "            d_batch = d.unsqueeze(0).repeat((b,))\n",
    "\n",
    "            with torch.no_grad():\n",
    "                v_pred = ema.ema_model.output(x_t, t_batch, d=d_batch, padding_masks=padding_masks) \n",
    "\n",
    "            x_t = x_t + (t[i] - t[i - 1]) * v_pred\n",
    "\n",
    "        refined_res = x_t\n",
    "\n",
    "        loss = F.mse_loss( x_t*Mask , target*Mask , reduction=\"none\")\n",
    "        loss = loss.sum()/Mask.sum()\n",
    "        loss_list.append(loss.item() )\n",
    "\n",
    "\n",
    "        loss_missing = F.mse_loss( x_t*(1-Mask), target*(1-Mask), reduction=\"none\")\n",
    "        loss_missing = loss_missing.sum()/(1-Mask).sum()\n",
    "        loss_missing_list.append(loss_missing.item() )\n",
    "\n",
    "\n",
    "        loss.float().backward() \n",
    "        optimizer.step()\n",
    "        optimizer.zero_grad()\n",
    "\n",
    "        pbar.update(1)\n",
    "\n",
    "pbar.close()"
   ]
  },
  {
   "cell_type": "code",
   "execution_count": 34,
   "id": "e8dfe9d5",
   "metadata": {},
   "outputs": [
    {
     "name": "stdout",
     "output_type": "stream",
     "text": [
      "[0.01153 0.01122 0.01098 0.01081 0.0107  0.01065 0.01062 0.01062]\n"
     ]
    },
    {
     "data": {
      "text/plain": [
       "Text(0.5, 1.0, 'evolution of refined RMSE')"
      ]
     },
     "execution_count": 34,
     "metadata": {},
     "output_type": "execute_result"
    },
    {
     "data": {
      "image/png": "[encoded data removed]",
      "text/plain": [
       "<Figure size 640x480 with 1 Axes>"
      ]
     },
     "metadata": {},
     "output_type": "display_data"
    }
   ],
   "source": [
    "rmse1 = list( map(lambda x: x ** (1/2), loss_list) )\n",
    "rmse2 = list( map(lambda x: x ** (1/2), loss_missing_list) )\n",
    "print( np.around( rmse2, 5 )  )\n",
    "\n",
    "plt.figure()\n",
    "# plt.plot(rmse1)\n",
    "plt.plot(rmse2)\n",
    "plt.title('evolution of refined RMSE')"
   ]
  },
  {
   "cell_type": "markdown",
   "id": "3e68afec",
   "metadata": {},
   "source": [
    "# refined RMSE from random initialization"
   ]
  },
  {
   "cell_type": "code",
   "execution_count": 35,
   "id": "d6a3cb1f",
   "metadata": {},
   "outputs": [
    {
     "name": "stdout",
     "output_type": "stream",
     "text": [
      "RMSE tensor(0.0106, grad_fn=<ToCopyBackward0>)\n",
      "MAE tensor(0.0071, grad_fn=<ToCopyBackward0>)\n"
     ]
    }
   ],
   "source": [
    "rmse = calc_rmse( refined_res, target,1-Mask).cpu()\n",
    "mae = calc_mae( refined_res, target, 1-Mask).cpu() \n",
    "print( 'RMSE', rmse )\n",
    "print( 'MAE', mae )"
   ]
  },
  {
   "cell_type": "code",
   "execution_count": null,
   "id": "3db1ab79",
   "metadata": {},
   "outputs": [],
   "source": []
  },
  {
   "cell_type": "code",
   "execution_count": null,
   "id": "fcdf3277",
   "metadata": {},
   "outputs": [],
   "source": []
  },
  {
   "cell_type": "code",
   "execution_count": null,
   "id": "d6b4dd33",
   "metadata": {},
   "outputs": [],
   "source": []
  }
 ],
 "metadata": {
  "celltoolbar": "原始单元格格式",
  "kernelspec": {
   "display_name": "Python 3 (ipykernel)",
   "language": "python",
   "name": "python3"
  },
  "language_info": {
   "codemirror_mode": {
    "name": "ipython",
    "version": 3
   },
   "file_extension": ".py",
   "mimetype": "text/x-python",
   "name": "python",
   "nbconvert_exporter": "python",
   "pygments_lexer": "ipython3",
   "version": "3.9.13"
  }
 },
 "nbformat": 4,
 "nbformat_minor": 5
}
